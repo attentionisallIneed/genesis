{
 "cells": [
  {
   "cell_type": "code",
   "execution_count": 1,
   "metadata": {},
   "outputs": [
    {
     "name": "stderr",
     "output_type": "stream",
     "text": [
      "[I 12/28/24 14:55:12.888 18826] [shell.py:_shell_pop_print@23] Graphical python shell detected, using wrapped sys.stdout\n"
     ]
    }
   ],
   "source": [
    "import torch\n",
    "import numpy as np\n",
    "import genesis as gs\n",
    "\n",
    "from scipy.spatial.transform import Rotation as R"
   ]
  },
  {
   "cell_type": "code",
   "execution_count": 2,
   "metadata": {},
   "outputs": [],
   "source": [
    "########################## init ##########################\n",
    "gs.init(backend=gs.gpu, logging_level=\"error\")"
   ]
  },
  {
   "cell_type": "code",
   "execution_count": 3,
   "metadata": {},
   "outputs": [],
   "source": [
    "file_path = '../../genesis/assets/xml/x1/mjcf/xyber_x1_flat.xml'\n",
    "# file_path = 'xml/franka_emika_panda/panda.xml'"
   ]
  },
  {
   "cell_type": "code",
   "execution_count": null,
   "metadata": {},
   "outputs": [],
   "source": [
    "########################## create a scene and entities ##########################\n",
    "scene = gs.Scene(show_viewer=True, show_FPS=False)\n",
    "plane = scene.add_entity(gs.morphs.Plane())\n",
    "robot = scene.add_entity(\n",
    "    gs.morphs.MJCF(file  = file_path,\n",
    "                   pos   = (0.0, 0.0, 0.65),\n",
    "                   euler = (0, 0, 0),),\n",
    ")\n",
    "box = scene.add_entity(gs.morphs.Box(pos   = (0.3, 0.0, 1.0),\n",
    "                                     size  = (0.2, 0.2, 0.2))\n",
    "                                     fixed = True,)\n",
    "\n",
    "########################## build ##########################\n",
    "scene.build()\n",
    "state = scene.get_state()"
   ]
  },
  {
   "cell_type": "code",
   "execution_count": 5,
   "metadata": {},
   "outputs": [
    {
     "data": {
      "text/plain": [
       "\u001b[38;5;11m────────────────────── \u001b[1m\u001b[3m<gs.RigidEntity>\u001b[0m \u001b[38;5;11m──────────────────────\n",
       "                \u001b[38;5;159m'n_qs'\u001b[0m\u001b[38;5;247m:\u001b[0m \u001b[38;5;121m\u001b[3m<int>\u001b[0m\u001b[38;5;121m: 14\u001b[0m\n",
       "              \u001b[38;5;159m'n_dofs'\u001b[0m\u001b[38;5;247m:\u001b[0m \u001b[38;5;121m\u001b[3m<int>\u001b[0m\u001b[38;5;121m: 14\u001b[0m\n",
       "             \u001b[38;5;159m'n_links'\u001b[0m\u001b[38;5;247m:\u001b[0m \u001b[38;5;121m\u001b[3m<int>\u001b[0m\u001b[38;5;121m: 30\u001b[0m\n",
       "             \u001b[38;5;159m'n_geoms'\u001b[0m\u001b[38;5;247m:\u001b[0m \u001b[38;5;121m\u001b[3m<int>\u001b[0m\u001b[38;5;121m: 10\u001b[0m\n",
       "             \u001b[38;5;159m'n_cells'\u001b[0m\u001b[38;5;247m:\u001b[0m \u001b[38;5;121m\u001b[3m<numpy.int64>\u001b[0m\u001b[38;5;121m: 1129172\u001b[0m\n",
       "             \u001b[38;5;159m'n_verts'\u001b[0m\u001b[38;5;247m:\u001b[0m \u001b[38;5;121m\u001b[3m<int>\u001b[0m\u001b[38;5;121m: 1748\u001b[0m\n",
       "             \u001b[38;5;159m'n_faces'\u001b[0m\u001b[38;5;247m:\u001b[0m \u001b[38;5;121m\u001b[3m<int>\u001b[0m\u001b[38;5;121m: 3456\u001b[0m\n",
       "             \u001b[38;5;159m'n_edges'\u001b[0m\u001b[38;5;247m:\u001b[0m \u001b[38;5;121m\u001b[3m<int>\u001b[0m\u001b[38;5;121m: 5184\u001b[0m\n",
       "            \u001b[38;5;159m'n_joints'\u001b[0m\u001b[38;5;247m:\u001b[0m \u001b[38;5;121m\u001b[3m<int>\u001b[0m\u001b[38;5;121m: 30\u001b[0m\n",
       "            \u001b[38;5;159m'n_vgeoms'\u001b[0m\u001b[38;5;247m:\u001b[0m \u001b[38;5;121m\u001b[3m<int>\u001b[0m\u001b[38;5;121m: 38\u001b[0m\n",
       "            \u001b[38;5;159m'n_vverts'\u001b[0m\u001b[38;5;247m:\u001b[0m \u001b[38;5;121m\u001b[3m<int>\u001b[0m\u001b[38;5;121m: 379162\u001b[0m\n",
       "            \u001b[38;5;159m'n_vfaces'\u001b[0m\u001b[38;5;247m:\u001b[0m \u001b[38;5;121m\u001b[3m<int>\u001b[0m\u001b[38;5;121m: 769092\u001b[0m\n",
       "               \u001b[38;5;159m'q_end'\u001b[0m\u001b[38;5;247m:\u001b[0m \u001b[38;5;121m\u001b[3m<int>\u001b[0m\u001b[38;5;121m: 14\u001b[0m\n",
       "             \u001b[38;5;159m'q_start'\u001b[0m\u001b[38;5;247m:\u001b[0m \u001b[38;5;121m\u001b[3m<int>\u001b[0m\u001b[38;5;121m: 0\u001b[0m\n",
       "            \u001b[38;5;159m'is_built'\u001b[0m\u001b[38;5;247m:\u001b[0m \u001b[38;5;121m\u001b[3m<bool>\u001b[0m\u001b[38;5;121m: True\u001b[0m\n",
       "             \u001b[38;5;159m'dof_end'\u001b[0m\u001b[38;5;247m:\u001b[0m \u001b[38;5;121m\u001b[3m<int>\u001b[0m\u001b[38;5;121m: 14\u001b[0m\n",
       "           \u001b[38;5;159m'dof_start'\u001b[0m\u001b[38;5;247m:\u001b[0m \u001b[38;5;121m\u001b[3m<int>\u001b[0m\u001b[38;5;121m: 0\u001b[0m\n",
       "                 \u001b[38;5;159m'idx'\u001b[0m\u001b[38;5;247m:\u001b[0m \u001b[38;5;121m\u001b[3m<int>\u001b[0m\u001b[38;5;121m: 1\u001b[0m\n",
       "                 \u001b[38;5;159m'sim'\u001b[0m\u001b[38;5;247m:\u001b[0m \u001b[38;5;121m\u001b[3m<gs.Simulator>\u001b[0m\u001b[38;5;121m\u001b[0m\n",
       "                 \u001b[38;5;159m'uid'\u001b[0m\u001b[38;5;247m:\u001b[0m \u001b[38;5;121m\u001b[3m<gs.UID>\u001b[0m\u001b[38;5;121m('f47b7a4-a966145abb0bd8199b544637d')\u001b[0m\n",
       "           \u001b[38;5;159m'base_link'\u001b[0m\u001b[38;5;247m:\u001b[0m \u001b[38;5;121m\u001b[3m<gs.RigidLink>\u001b[0m\u001b[38;5;121m: <1ec39d8>, name: 'x1-body', idx: 1\u001b[0m\n",
       "          \u001b[38;5;159m'base_joint'\u001b[0m\u001b[38;5;247m:\u001b[0m \u001b[38;5;121m\u001b[3m<gs.RigidJoint>\u001b[0m\u001b[38;5;121m: <5bd7a90>, name: 'x1-body_joint', idx: 1, type: <FIXED: 0>\u001b[0m\n",
       "       \u001b[38;5;159m'base_link_idx'\u001b[0m\u001b[38;5;247m:\u001b[0m \u001b[38;5;121m\u001b[3m<int>\u001b[0m\u001b[38;5;121m: 1\u001b[0m\n",
       "            \u001b[38;5;159m'cell_end'\u001b[0m\u001b[38;5;247m:\u001b[0m \u001b[38;5;121m\u001b[3m<numpy.int64>\u001b[0m\u001b[38;5;121m: 1135316\u001b[0m\n",
       "          \u001b[38;5;159m'cell_start'\u001b[0m\u001b[38;5;247m:\u001b[0m \u001b[38;5;121m\u001b[3m<numpy.int64>\u001b[0m\u001b[38;5;121m: 6144\u001b[0m\n",
       "          \u001b[38;5;159m'edge_start'\u001b[0m\u001b[38;5;247m:\u001b[0m \u001b[38;5;121m\u001b[3m<int>\u001b[0m\u001b[38;5;121m: 18\u001b[0m\n",
       "          \u001b[38;5;159m'face_start'\u001b[0m\u001b[38;5;247m:\u001b[0m \u001b[38;5;121m\u001b[3m<int>\u001b[0m\u001b[38;5;121m: 12\u001b[0m\n",
       "            \u001b[38;5;159m'geom_end'\u001b[0m\u001b[38;5;247m:\u001b[0m \u001b[38;5;121m\u001b[3m<int>\u001b[0m\u001b[38;5;121m: 11\u001b[0m\n",
       "          \u001b[38;5;159m'geom_start'\u001b[0m\u001b[38;5;247m:\u001b[0m \u001b[38;5;121m\u001b[3m<int>\u001b[0m\u001b[38;5;121m: 1\u001b[0m\n",
       "           \u001b[38;5;159m'init_qpos'\u001b[0m\u001b[38;5;247m:\u001b[0m \u001b[38;5;121m\u001b[3m<numpy.ndarray>\u001b[0m\u001b[38;5;121m: array([0., 0., 0., 0., 0., 0., 0., 0., 0., 0., 0., 0., 0., 0.])\u001b[0m\n",
       "            \u001b[38;5;159m'link_end'\u001b[0m\u001b[38;5;247m:\u001b[0m \u001b[38;5;121m\u001b[3m<int>\u001b[0m\u001b[38;5;121m: 31\u001b[0m\n",
       "          \u001b[38;5;159m'link_start'\u001b[0m\u001b[38;5;247m:\u001b[0m \u001b[38;5;121m\u001b[3m<int>\u001b[0m\u001b[38;5;121m: 1\u001b[0m\n",
       "          \u001b[38;5;159m'vert_start'\u001b[0m\u001b[38;5;247m:\u001b[0m \u001b[38;5;121m\u001b[3m<int>\u001b[0m\u001b[38;5;121m: 8\u001b[0m\n",
       "               \u001b[38;5;159m'geoms'\u001b[0m\u001b[38;5;247m:\u001b[0m \u001b[38;5;121m\u001b[3m<gs.List>\u001b[0m\u001b[38;5;121m(len=10, [\n",
       "                            <gs.RigidGeom>: <d08e49e>, idx: 1 (from entity <f47b7a4>, link <1ec39d8>),\n",
       "                            <gs.RigidGeom>: <f48c39a>, idx: 2 (from entity <f47b7a4>, link <2815f90>),\n",
       "                            <gs.RigidGeom>: <ef5cb8f>, idx: 3 (from entity <f47b7a4>, link <f4b4457>),\n",
       "                            <gs.RigidGeom>: <0a24d02>, idx: 4 (from entity <f47b7a4>, link <f4b4457>),\n",
       "                            <gs.RigidGeom>: <4479901>, idx: 5 (from entity <f47b7a4>, link <f4b4457>),\n",
       "                            <gs.RigidGeom>: <3d917c5>, idx: 6 (from entity <f47b7a4>, link <f4b4457>),\n",
       "                            <gs.RigidGeom>: <82da14a>, idx: 7 (from entity <f47b7a4>, link <31c183e>),\n",
       "                            <gs.RigidGeom>: <29c49f5>, idx: 8 (from entity <f47b7a4>, link <31c183e>),\n",
       "                            <gs.RigidGeom>: <1355357>, idx: 9 (from entity <f47b7a4>, link <31c183e>),\n",
       "                            <gs.RigidGeom>: <a57e9b3>, idx: 10 (from entity <f47b7a4>, link <31c183e>),\n",
       "                        ])\u001b[0m\n",
       "               \u001b[38;5;159m'links'\u001b[0m\u001b[38;5;247m:\u001b[0m \u001b[38;5;121m\u001b[3m<gs.List>\u001b[0m\u001b[38;5;121m(len=30, [\n",
       "                            <gs.RigidLink>: <1ec39d8>, name: 'x1-body', idx: 1,\n",
       "                            <gs.RigidLink>: <8c14a69>, name: 'body_yaw', idx: 2,\n",
       "                            <gs.RigidLink>: <679b071>, name: 'left_hip_pitch_link', idx: 3,\n",
       "                            <gs.RigidLink>: <070500c>, name: 'right_hip_pitch_link', idx: 4,\n",
       "                            <gs.RigidLink>: <33d5fdb>, name: 'body_roll', idx: 5,\n",
       "                            <gs.RigidLink>: <bc4b5e7>, name: 'left_hip_roll_link', idx: 6,\n",
       "                            <gs.RigidLink>: <d22dc8b>, name: 'right_hip_roll_link', idx: 7,\n",
       "                            <gs.RigidLink>: <2815f90>, name: 'body_pitch', idx: 8,\n",
       "                            <gs.RigidLink>: <986747b>, name: 'left_hip_yaw_link', idx: 9,\n",
       "                            ...\n",
       "                            <gs.RigidLink>: <9a1bee8>, name: 'right_wrist_roll_link', idx: 30,\n",
       "                        ])\u001b[0m\n",
       "               \u001b[38;5;159m'morph'\u001b[0m\u001b[38;5;247m:\u001b[0m \u001b[38;5;121m\u001b[3m<gs.morphs.MJCF(file='/home/fuhugu/hanqing/robot/genesis-master/genesis/assets/xml/x1/mjcf/xyber_x1_flat.xml')>\u001b[0m\u001b[38;5;121m\u001b[0m\n",
       "               \u001b[38;5;159m'scene'\u001b[0m\u001b[38;5;247m:\u001b[0m \u001b[38;5;121m\u001b[3m<gs.Scene>\u001b[0m\u001b[38;5;121m\u001b[0m\n",
       "         \u001b[38;5;159m'vface_start'\u001b[0m\u001b[38;5;247m:\u001b[0m \u001b[38;5;121m\u001b[3m<int>\u001b[0m\u001b[38;5;121m: 12\u001b[0m\n",
       "         \u001b[38;5;159m'vvert_start'\u001b[0m\u001b[38;5;247m:\u001b[0m \u001b[38;5;121m\u001b[3m<int>\u001b[0m\u001b[38;5;121m: 8\u001b[0m\n",
       "              \u001b[38;5;159m'joints'\u001b[0m\u001b[38;5;247m:\u001b[0m \u001b[38;5;121m\u001b[3m<gs.List>\u001b[0m\u001b[38;5;121m(len=30, [\n",
       "                            <gs.RigidJoint>: <5bd7a90>, name: 'x1-body_joint', idx: 1, type: <FIXED: 0>,\n",
       "                            <gs.RigidJoint>: <e7beb2d>, name: 'body_yaw_joint', idx: 2, type: <FIXED: 0>,\n",
       "                            <gs.RigidJoint>: <bf1ca22>, name: 'left_hip_pitch_link_joint', idx: 3, type: <FIXED: 0>,\n",
       "                            <gs.RigidJoint>: <74c145c>, name: 'right_hip_pitch_link_joint', idx: 4, type: <FIXED: 0>,\n",
       "                            <gs.RigidJoint>: <f991fcb>, name: 'body_roll_joint', idx: 5, type: <FIXED: 0>,\n",
       "                            <gs.RigidJoint>: <5f000e7>, name: 'left_hip_roll_link_joint', idx: 6, type: <FIXED: 0>,\n",
       "                            <gs.RigidJoint>: <28e1b39>, name: 'right_hip_roll_link_joint', idx: 7, type: <FIXED: 0>,\n",
       "                            <gs.RigidJoint>: <9d4bf9d>, name: 'body_pitch_joint', idx: 8, type: <FIXED: 0>,\n",
       "                            <gs.RigidJoint>: <aae33d2>, name: 'left_hip_yaw_link_joint', idx: 9, type: <FIXED: 0>,\n",
       "                            ...\n",
       "                            <gs.RigidJoint>: <24a8025>, name: 'right_wrist_roll', idx: 30, type: <REVOLUTE: 1>,\n",
       "                        ])\u001b[0m\n",
       "              \u001b[38;5;159m'solver'\u001b[0m\u001b[38;5;247m:\u001b[0m \u001b[38;5;121m\u001b[3m<gs.RigidSolver>\u001b[0m\u001b[38;5;121m: <e8dda49>, n_entities: 3\u001b[0m\n",
       "              \u001b[38;5;159m'vgeoms'\u001b[0m\u001b[38;5;247m:\u001b[0m \u001b[38;5;121m\u001b[3m<gs.List>\u001b[0m\u001b[38;5;121m(len=38, [\n",
       "                            <gs.RigidVisGeom>: <1f2a906>, idx: 1 (from entity <f47b7a4>, link <1ec39d8>),\n",
       "                            <gs.RigidVisGeom>: <6320844>, idx: 2 (from entity <f47b7a4>, link <8c14a69>),\n",
       "                            <gs.RigidVisGeom>: <1ea03aa>, idx: 3 (from entity <f47b7a4>, link <679b071>),\n",
       "                            <gs.RigidVisGeom>: <17e852a>, idx: 4 (from entity <f47b7a4>, link <070500c>),\n",
       "                            <gs.RigidVisGeom>: <f2a883e>, idx: 5 (from entity <f47b7a4>, link <33d5fdb>),\n",
       "                            <gs.RigidVisGeom>: <9737534>, idx: 6 (from entity <f47b7a4>, link <bc4b5e7>),\n",
       "                            <gs.RigidVisGeom>: <2088848>, idx: 7 (from entity <f47b7a4>, link <d22dc8b>),\n",
       "                            <gs.RigidVisGeom>: <5d111e6>, idx: 8 (from entity <f47b7a4>, link <2815f90>),\n",
       "                            <gs.RigidVisGeom>: <27d3868>, idx: 9 (from entity <f47b7a4>, link <986747b>),\n",
       "                            ...\n",
       "                            <gs.RigidVisGeom>: <76bc37b>, idx: 38 (from entity <f47b7a4>, link <9a1bee8>),\n",
       "                        ])\u001b[0m\n",
       "\u001b[38;5;159m'gravity_compensation'\u001b[0m\u001b[38;5;247m:\u001b[0m \u001b[38;5;121m\u001b[3m<float>\u001b[0m\u001b[38;5;121m: 0.0\u001b[0m\n",
       "             \u001b[38;5;159m'surface'\u001b[0m\u001b[38;5;247m:\u001b[0m \u001b[38;5;121m\u001b[3m<gs.options.surfaces.Default>\u001b[0m\u001b[38;5;121m\u001b[0m\n",
       "            \u001b[38;5;159m'material'\u001b[0m\u001b[38;5;247m:\u001b[0m \u001b[38;5;121m\u001b[3m<gs.materials.Rigid>\u001b[0m\u001b[38;5;121m\u001b[0m\n",
       "   \u001b[38;5;159m'visualize_contact'\u001b[0m\u001b[38;5;247m:\u001b[0m \u001b[38;5;121m\u001b[3m<bool>\u001b[0m\u001b[38;5;121m: False\u001b[0m"
      ]
     },
     "execution_count": 5,
     "metadata": {},
     "output_type": "execute_result"
    }
   ],
   "source": [
    "robot"
   ]
  },
  {
   "cell_type": "code",
   "execution_count": 6,
   "metadata": {},
   "outputs": [
    {
     "name": "stdout",
     "output_type": "stream",
     "text": [
      "number of links: 30\n",
      "1 x1-body x1-body_joint <FIXED: 0>\n",
      "2 body_yaw body_yaw_joint <FIXED: 0>\n",
      "3 left_hip_pitch_link left_hip_pitch_link_joint <FIXED: 0>\n",
      "4 right_hip_pitch_link right_hip_pitch_link_joint <FIXED: 0>\n",
      "5 body_roll body_roll_joint <FIXED: 0>\n",
      "6 left_hip_roll_link left_hip_roll_link_joint <FIXED: 0>\n",
      "7 right_hip_roll_link right_hip_roll_link_joint <FIXED: 0>\n",
      "8 body_pitch body_pitch_joint <FIXED: 0>\n",
      "9 left_hip_yaw_link left_hip_yaw_link_joint <FIXED: 0>\n",
      "10 right_hip_yaw_link right_hip_yaw_link_joint <FIXED: 0>\n",
      "11 left_shoulder_pitch_link left_shoulder_pitch <REVOLUTE: 1>\n",
      "12 right_shoulder_pitch_link right_shoulder_pitch <REVOLUTE: 1>\n",
      "13 left_knee_pitch_link left_knee_pitch_link_joint <FIXED: 0>\n",
      "14 right_knee_pitch_link right_knee_pitch_link_joint <FIXED: 0>\n",
      "15 left_shoulder_roll_link left_shoulder_roll <REVOLUTE: 1>\n",
      "16 right_shoulder_roll_link right_shoulder_roll <REVOLUTE: 1>\n",
      "17 left_ankle_pitch_link left_ankle_pitch_link_joint <FIXED: 0>\n",
      "18 right_ankle_pitch_link right_ankle_pitch_link_joint <FIXED: 0>\n",
      "19 left_shoulder_yaw_link left_shoulder_yaw <REVOLUTE: 1>\n",
      "20 right_shoulder_yaw_link right_shoulder_yaw <REVOLUTE: 1>\n",
      "21 left_ankle_roll_link left_ankle_roll_link_joint <FIXED: 0>\n",
      "22 right_ankle_roll_link right_ankle_roll_link_joint <FIXED: 0>\n",
      "23 left_elbow_pitch_link left_elbow_pitch <REVOLUTE: 1>\n",
      "24 right_elbow_pitch_link right_elbow_pitch <REVOLUTE: 1>\n",
      "25 left_elbow_yaw_link left_elbow_yaw <REVOLUTE: 1>\n",
      "26 right_elbow_yaw_link right_elbow_yaw <REVOLUTE: 1>\n",
      "27 left_wrist_pitch_link left_wrist_pitch <REVOLUTE: 1>\n",
      "28 right_wrist_pitch_link right_wrist_pitch <REVOLUTE: 1>\n",
      "29 left_wrist_roll_link left_wrist_roll <REVOLUTE: 1>\n",
      "30 right_wrist_roll_link right_wrist_roll <REVOLUTE: 1>\n"
     ]
    }
   ],
   "source": [
    "# x1-body floating_base <FREE: 4>: dof 6\n",
    "# arms dof: 14\n",
    "# legs dof: 12 --> 0\n",
    "\n",
    "print(f'number of links: {robot.n_links}')\n",
    "for link in robot.links:\n",
    "    print(f'{link.idx} {link.name} {link.joint.name} {link.joint.type}')"
   ]
  },
  {
   "cell_type": "code",
   "execution_count": 7,
   "metadata": {},
   "outputs": [
    {
     "name": "stdout",
     "output_type": "stream",
     "text": [
      "arm_dofs_idx: [0, 2, 4, 6, 8, 10, 12, 1, 3, 5, 7, 9, 11, 13]\n",
      "Joint not found for name: left_hip_pitch.\n",
      "Joint not found for name: floating_base.\n"
     ]
    }
   ],
   "source": [
    "########################## joints ##########################\n",
    "leg_joint_names = ['left_hip_pitch', 'left_hip_roll', 'left_hip_yaw', 'left_knee_pitch',\n",
    "             'left_ankle_pitch', 'left_ankle_roll', 'right_hip_pitch', 'right_hip_roll',\n",
    "             'right_hip_yaw', 'right_knee_pitch', 'right_ankle_pitch', 'right_ankle_roll']\n",
    "arm_joint_names = ['left_shoulder_pitch', 'left_shoulder_roll', 'left_shoulder_yaw', 'left_elbow_pitch',\n",
    "                   'left_elbow_yaw', 'left_wrist_pitch', 'left_wrist_roll',\n",
    "                   'right_shoulder_pitch', 'right_shoulder_roll', 'right_shoulder_yaw', 'right_elbow_pitch',\n",
    "                   'right_elbow_yaw', 'right_wrist_pitch', 'right_wrist_roll']\n",
    "\n",
    "arm_dofs_idx, leg_dofs_idx, base_dofs_idx = [], [], []\n",
    "\n",
    "try:\n",
    "    arm_dofs_idx = [robot.get_joint(name).dof_idx_local for name in arm_joint_names]\n",
    "    print(f'arm_dofs_idx: {arm_dofs_idx}')\n",
    "except Exception as e:\n",
    "    print(e)\n",
    "    \n",
    "try:\n",
    "    leg_dofs_idx = [robot.get_joint(name).dof_idx_local for name in leg_joint_names]\n",
    "    print(f'leg_dofs_idx: {leg_dofs_idx}')\n",
    "except Exception as e:\n",
    "    print(e)\n",
    "\n",
    "try:\n",
    "    base_dofs_idx = [robot.get_joint('floating_base').dof_idx_local]\n",
    "    print(f'base_dofs_idx: {base_dofs_idx}')\n",
    "except Exception as e:\n",
    "    print(e)"
   ]
  },
  {
   "cell_type": "code",
   "execution_count": 8,
   "metadata": {},
   "outputs": [
    {
     "name": "stdout",
     "output_type": "stream",
     "text": [
      "1 x1-body tensor([0.0000, 0.0000, 0.6500], device='cuda:0')\n",
      "2 body_yaw tensor([0.0025, 0.0000, 0.7655], device='cuda:0')\n",
      "3 left_hip_pitch_link tensor([0.0025, 0.0923, 0.6379], device='cuda:0')\n",
      "4 right_hip_pitch_link tensor([ 0.0025, -0.0923,  0.6379], device='cuda:0')\n",
      "5 body_roll tensor([0.0025, 0.0000, 0.8060], device='cuda:0')\n",
      "6 left_hip_roll_link tensor([0.0429, 0.1339, 0.5962], device='cuda:0')\n",
      "7 right_hip_roll_link tensor([ 0.0429, -0.1339,  0.5962], device='cuda:0')\n",
      "8 body_pitch tensor([0.0025, 0.0000, 0.8060], device='cuda:0')\n",
      "9 left_hip_yaw_link tensor([0.0023, 0.1339, 0.5124], device='cuda:0')\n",
      "10 right_hip_yaw_link tensor([ 0.0023, -0.1339,  0.5185], device='cuda:0')\n",
      "11 left_shoulder_pitch_link tensor([0.0025, 0.1458, 1.0620], device='cuda:0')\n",
      "12 right_shoulder_pitch_link tensor([ 0.0024, -0.1458,  1.0620], device='cuda:0')\n",
      "13 left_knee_pitch_link tensor([0.0023, 0.1002, 0.3702], device='cuda:0')\n",
      "14 right_knee_pitch_link tensor([ 0.0023, -0.1004,  0.3702], device='cuda:0')\n",
      "15 left_shoulder_roll_link tensor([0.0338, 0.2050, 1.0620], device='cuda:0')\n",
      "16 right_shoulder_roll_link tensor([ 0.0337, -0.2050,  1.0620], device='cuda:0')\n",
      "17 left_ankle_pitch_link tensor([0.0023, 0.1338, 0.0653], device='cuda:0')\n",
      "18 right_ankle_pitch_link tensor([ 0.0023, -0.1340,  0.0653], device='cuda:0')\n",
      "19 left_shoulder_yaw_link tensor([0.0025, 0.2050, 0.9368], device='cuda:0')\n",
      "20 right_shoulder_yaw_link tensor([ 0.0024, -0.2050,  0.9368], device='cuda:0')\n",
      "21 left_ankle_roll_link tensor([0.0023, 0.1338, 0.0653], device='cuda:0')\n",
      "22 right_ankle_roll_link tensor([ 0.0023, -0.1340,  0.0653], device='cuda:0')\n",
      "23 left_elbow_pitch_link tensor([0.0025, 0.2360, 0.9003], device='cuda:0')\n",
      "24 right_elbow_pitch_link tensor([ 0.0024, -0.2360,  0.9003], device='cuda:0')\n",
      "25 left_elbow_yaw_link tensor([0.0025, 0.2050, 0.7833], device='cuda:0')\n",
      "26 right_elbow_yaw_link tensor([ 0.0024, -0.2050,  0.7833], device='cuda:0')\n",
      "27 left_wrist_pitch_link tensor([0.0026, 0.1990, 0.6439], device='cuda:0')\n",
      "28 right_wrist_pitch_link tensor([ 0.0023, -0.1990,  0.6439], device='cuda:0')\n",
      "29 left_wrist_roll_link tensor([0.0026, 0.1990, 0.6439], device='cuda:0')\n",
      "30 right_wrist_roll_link tensor([ 0.0023, -0.1990,  0.6439], device='cuda:0')\n"
     ]
    }
   ],
   "source": [
    "########################## links ##########################\n",
    "\n",
    "# link的索引从1开始\n",
    "body_link_names = ['x1-body', 'body_yaw', 'body_roll', 'body_pitch']\n",
    "arm_link_names = [name + '_link' for name in arm_joint_names]\n",
    "leg_link_names = [name + '_link' for name in leg_joint_names]\n",
    "link_names = body_link_names + arm_link_names + leg_link_names\n",
    "\n",
    "info = []\n",
    "for name in link_names:\n",
    "    idx = robot.get_link(name).idx\n",
    "    pos = robot.get_links_pos()[idx-1]\n",
    "    info.append((idx, name, pos))\n",
    "\n",
    "info.sort(key=lambda x: x[0])\n",
    "for idx, name, pos in info:\n",
    "    print(f'{idx} {name} {pos}')"
   ]
  },
  {
   "cell_type": "code",
   "execution_count": 9,
   "metadata": {},
   "outputs": [
    {
     "name": "stdout",
     "output_type": "stream",
     "text": [
      "kv: tensor([3., 3., 3., 3., 3., 3., 3., 3., 3., 3., 3., 3., 3., 3.],\n",
      "       device='cuda:0')\n",
      "kp: tensor([40., 40., 40., 40., 40., 40., 40., 40., 40., 40., 40., 40., 40., 40.],\n",
      "       device='cuda:0')\n"
     ]
    }
   ],
   "source": [
    "############ 可选：设置控制增益 ############\n",
    "# 设置位置增益\n",
    "robot.set_dofs_kp(\n",
    "    kp             = np.ones(robot.n_dofs) * 40,\n",
    "    # dofs_idx_local = arm_dofs_idx,\n",
    ")\n",
    "# 设置速度增益\n",
    "robot.set_dofs_kv(\n",
    "    kv             = np.ones(robot.n_dofs) * 3.0,\n",
    "    # dofs_idx_local = arm_dofs_idx,\n",
    ")\n",
    "# 设置安全的力范围\n",
    "robot.set_dofs_force_range(\n",
    "    lower          = np.ones(robot.n_dofs) * -100,\n",
    "    upper          = np.ones(robot.n_dofs) * 100,\n",
    "    # dofs_idx_local = arm_dofs_idx,\n",
    ")\n",
    "kv = robot.get_dofs_kv()\n",
    "print(f'kv: {kv}')\n",
    "kp = robot.get_dofs_kp()\n",
    "print(f'kp: {kp}')"
   ]
  },
  {
   "cell_type": "code",
   "execution_count": 10,
   "metadata": {},
   "outputs": [],
   "source": [
    "if len(base_dofs_idx) > 0:\n",
    "    robot.get_joint('floating_base')"
   ]
  },
  {
   "cell_type": "code",
   "execution_count": 11,
   "metadata": {},
   "outputs": [
    {
     "name": "stdout",
     "output_type": "stream",
     "text": [
      "end effector positions: [tensor([0.0026, 0.1990, 0.6439], device='cuda:0'), tensor([ 0.0023, -0.1990,  0.6439], device='cuda:0')]\n"
     ]
    }
   ],
   "source": [
    "########################## end effectors ##########################\n",
    "end_effector_names = ['left_wrist_roll_link', 'right_wrist_roll_link']\n",
    "effector_pos = robot.get_links_pos()\n",
    "end_effector_idx = [robot.get_link(name).idx_local for name in end_effector_names]\n",
    "ee_pos = [effector_pos[i] for i in end_effector_idx]\n",
    "print(f'end effector positions: {ee_pos}')"
   ]
  },
  {
   "cell_type": "code",
   "execution_count": 12,
   "metadata": {},
   "outputs": [],
   "source": [
    "########################## inverse_kinematics ##########################\n",
    "ee_link = [robot.get_link(name) for name in end_effector_names]\n",
    "qpos = robot.inverse_kinematics_multilink(ee_link, [[0.1, 0.1, 0.6], [ 0.3, -0.3,  0.5]])"
   ]
  },
  {
   "cell_type": "code",
   "execution_count": 21,
   "metadata": {},
   "outputs": [],
   "source": [
    "default_qpos = torch.zeros(qpos.size(), device=qpos.device)\n",
    "robot.set_dofs_position(default_qpos)\n",
    "for i in range(100):\n",
    "    scene.step()"
   ]
  },
  {
   "cell_type": "code",
   "execution_count": 18,
   "metadata": {},
   "outputs": [],
   "source": [
    "# 规划运动路径\n",
    "path = robot.plan_path(\n",
    "    qpos_goal     = qpos,\n",
    "    num_waypoints = int(2 / scene.dt), # 2秒时长\n",
    ")\n",
    "\n",
    "# 执行规划路径\n",
    "for waypoint in path:\n",
    "    robot.control_dofs_position(waypoint)\n",
    "    scene.step()\n",
    "\n",
    "# 等待到达最后一个路径点\n",
    "for i in range(100):\n",
    "    scene.step()"
   ]
  },
  {
   "cell_type": "code",
   "execution_count": 14,
   "metadata": {},
   "outputs": [
    {
     "name": "stdout",
     "output_type": "stream",
     "text": [
      "tensor([0.0000, 0.0000, 1.5708], device='cuda:0', dtype=torch.float64)\n"
     ]
    }
   ],
   "source": [
    "device = torch.device('cuda' if torch.cuda.is_available() else 'cpu')\n",
    "\n",
    "def quaternion_to_euler(quaternion):\n",
    "    \"\"\"\n",
    "    将四元数转换为欧拉角（单位：弧度）。\n",
    "    参数：\n",
    "    quaternion (array-like): 四元数 [x, y, z, w]\n",
    "    返回：\n",
    "    euler_angles (array): 对应的欧拉角 [roll, pitch, yaw]（单位：弧度）\n",
    "    \"\"\"\n",
    "    # 创建旋转对象\n",
    "    r = R.from_quat(quaternion)\n",
    "    # 获取欧拉角 (yaw, pitch, roll)，使用 ypr 顺序\n",
    "    euler_angles = r.as_euler('zyx', degrees=False)\n",
    "    return torch.tensor(euler_angles, device=device)\n",
    "\n",
    "quaternion = [1, 0, 0,  1.0000e+00]  # 例如一个四元数\n",
    "euler_angles = quaternion_to_euler(quaternion)\n",
    "print(euler_angles)\n"
   ]
  },
  {
   "cell_type": "code",
   "execution_count": 15,
   "metadata": {},
   "outputs": [
    {
     "name": "stdout",
     "output_type": "stream",
     "text": [
      "origin_qpos: tensor([-3.1401, -0.3861,  3.1400,  0.1683, -2.5539,  0.0560,  0.1030, -0.0310,\n",
      "        -1.6311,  2.1473, -2.1143, -1.1285, -2.1733, -2.2354], device='cuda:0')\n",
      "arm_dof_pos: tensor([-3.1401,  3.1400, -2.5539,  0.1030, -1.6311, -2.1143, -2.1733, -0.3861,\n",
      "         0.1683,  0.0560, -0.0310,  2.1473, -1.1285, -2.2354], device='cuda:0')\n"
     ]
    }
   ],
   "source": [
    "origin_qpos = robot.get_qpos()\n",
    "print(f'origin_qpos: {origin_qpos}')\n",
    "arm_dof_pos = robot.get_dofs_position(arm_dofs_idx)\n",
    "print(f'arm_dof_pos: {arm_dof_pos}')\n",
    "if len(base_dofs_idx) > 0:\n",
    "    origin_dof_pos = robot.get_dofs_position(base_dofs_idx[0])\n",
    "    print(f'origin_dof_pos: {origin_dof_pos}')\n",
    "    origin_q_euler = quaternion_to_euler(origin_qpos[3:7].cpu())\n",
    "    print(f'origin_q_euler: {origin_q_euler}')"
   ]
  },
  {
   "cell_type": "code",
   "execution_count": 16,
   "metadata": {},
   "outputs": [
    {
     "name": "stdout",
     "output_type": "stream",
     "text": [
      "qpos: tensor([-3.1400, -0.4460,  3.1400,  0.1906, -2.5539,  0.0464,  0.1082, -0.0521,\n",
      "        -1.6309,  2.1479, -2.1122, -1.1287, -2.1721, -2.2374], device='cuda:0')\n",
      "dofs_position: tensor([-3.1400,  3.1400, -2.5539,  0.1082, -1.6309, -2.1122, -2.1721, -0.4460,\n",
      "         0.1906,  0.0464, -0.0521,  2.1479, -1.1287, -2.2374], device='cuda:0')\n"
     ]
    }
   ],
   "source": [
    "# 通过set_dofs_position暴力执行\n",
    "if len(base_dofs_idx) > 0:\n",
    "    q_euler = quaternion_to_euler(qpos[3:7])\n",
    "    qpos_euler = torch.cat([qpos[:3], q_euler, qpos[7:]])\n",
    "else:\n",
    "    qpos_euler = qpos\n",
    "robot.set_dofs_position(qpos_euler)\n",
    "\n",
    "if len(base_dofs_idx) > 0:\n",
    "    dof_euler = robot.get_dofs_position(base_dofs_idx[0])[3:]\n",
    "    print(f'q_euler: {q_euler}')\n",
    "    print(f'dof_euler: {dof_euler}')\n",
    "print(f'qpos: {qpos}')\n",
    "print(f'dofs_position: {robot.get_dofs_position(arm_dofs_idx)}')"
   ]
  },
  {
   "cell_type": "code",
   "execution_count": 17,
   "metadata": {},
   "outputs": [
    {
     "name": "stdout",
     "output_type": "stream",
     "text": [
      "0 arm -0.44601649045944214\n",
      "1 arm 3.140000104904175\n",
      "2 arm 0.1906452178955078\n",
      "3 arm -2.5539438724517822\n",
      "4 arm 0.04636955261230469\n",
      "5 arm 0.10824096202850342\n",
      "6 arm -0.052115052938461304\n",
      "7 arm -1.630906343460083\n",
      "8 arm 2.1478958129882812\n",
      "9 arm -2.1121647357940674\n",
      "10 arm -1.128735065460205\n",
      "11 arm -2.1721153259277344\n",
      "12 arm -2.2374267578125\n"
     ]
    },
    {
     "ename": "IndexError",
     "evalue": "index 14 is out of bounds for dimension 0 with size 14",
     "output_type": "error",
     "traceback": [
      "\u001b[0;31m---------------------------------------------------------------------------\u001b[0m",
      "\u001b[0;31mIndexError\u001b[0m                                Traceback (most recent call last)",
      "Cell \u001b[0;32mIn[17], line 3\u001b[0m\n\u001b[1;32m      1\u001b[0m \u001b[38;5;28;01mfor\u001b[39;00m i \u001b[38;5;129;01min\u001b[39;00m \u001b[38;5;28mrange\u001b[39m(robot\u001b[38;5;241m.\u001b[39mn_dofs):\n\u001b[1;32m      2\u001b[0m     \u001b[38;5;28;01mif\u001b[39;00m i \u001b[38;5;129;01min\u001b[39;00m arm_dofs_idx:\n\u001b[0;32m----> 3\u001b[0m         \u001b[38;5;28mprint\u001b[39m(\u001b[38;5;124mf\u001b[39m\u001b[38;5;124m'\u001b[39m\u001b[38;5;132;01m{\u001b[39;00mi\u001b[38;5;132;01m}\u001b[39;00m\u001b[38;5;124m arm \u001b[39m\u001b[38;5;132;01m{\u001b[39;00m\u001b[43mqpos\u001b[49m\u001b[43m[\u001b[49m\u001b[43mi\u001b[49m\u001b[38;5;241;43m+\u001b[39;49m\u001b[38;5;241;43m1\u001b[39;49m\u001b[43m]\u001b[49m\u001b[38;5;132;01m}\u001b[39;00m\u001b[38;5;124m'\u001b[39m)\n\u001b[1;32m      4\u001b[0m     \u001b[38;5;28;01melif\u001b[39;00m i \u001b[38;5;129;01min\u001b[39;00m leg_dofs_idx:\n\u001b[1;32m      5\u001b[0m         \u001b[38;5;28mprint\u001b[39m(\u001b[38;5;124mf\u001b[39m\u001b[38;5;124m'\u001b[39m\u001b[38;5;132;01m{\u001b[39;00mi\u001b[38;5;132;01m}\u001b[39;00m\u001b[38;5;124m leg \u001b[39m\u001b[38;5;132;01m{\u001b[39;00mqpos[i\u001b[38;5;241m+\u001b[39m\u001b[38;5;241m1\u001b[39m]\u001b[38;5;132;01m}\u001b[39;00m\u001b[38;5;124m'\u001b[39m)\n",
      "\u001b[0;31mIndexError\u001b[0m: index 14 is out of bounds for dimension 0 with size 14"
     ]
    }
   ],
   "source": [
    "for i in range(robot.n_dofs):\n",
    "    if i in arm_dofs_idx:\n",
    "        print(f'{i} arm {qpos[i+1]}')\n",
    "    elif i in leg_dofs_idx:\n",
    "        print(f'{i} leg {qpos[i+1]}')\n",
    "    else:\n",
    "        print(f'{i} base {qpos[i+1]}')"
   ]
  }
 ],
 "metadata": {
  "kernelspec": {
   "display_name": "genesis",
   "language": "python",
   "name": "python3"
  },
  "language_info": {
   "codemirror_mode": {
    "name": "ipython",
    "version": 3
   },
   "file_extension": ".py",
   "mimetype": "text/x-python",
   "name": "python",
   "nbconvert_exporter": "python",
   "pygments_lexer": "ipython3",
   "version": "3.10.16"
  }
 },
 "nbformat": 4,
 "nbformat_minor": 2
}
