{
 "cells": [
  {
   "cell_type": "code",
   "execution_count": 1,
   "metadata": {},
   "outputs": [
    {
     "name": "stderr",
     "output_type": "stream",
     "text": [
      "[I 12/31/24 14:43:54.512 54283] [shell.py:_shell_pop_print@23] Graphical python shell detected, using wrapped sys.stdout\n"
     ]
    }
   ],
   "source": [
    "import torch\n",
    "import numpy as np\n",
    "import genesis as gs\n",
    "\n",
    "from scipy.spatial.transform import Rotation as R"
   ]
  },
  {
   "cell_type": "code",
   "execution_count": 2,
   "metadata": {},
   "outputs": [],
   "source": [
    "########################## init ##########################\n",
    "gs.init(backend=gs.gpu, logging_level=\"error\")"
   ]
  },
  {
   "cell_type": "code",
   "execution_count": 3,
   "metadata": {},
   "outputs": [],
   "source": [
    "file_path = '../../genesis/assets/xml/x1/mjcf/xyber_x1_flat.xml'\n",
    "# file_path = 'xml/franka_emika_panda/panda.xml'\n",
    "box_size = 0.2\n",
    "t = 2"
   ]
  },
  {
   "cell_type": "code",
   "execution_count": 4,
   "metadata": {},
   "outputs": [],
   "source": [
    "########################## create a scene and entities ##########################\n",
    "scene = gs.Scene(show_viewer=True, show_FPS=False)\n",
    "plane = scene.add_entity(gs.morphs.Plane())\n",
    "robot = scene.add_entity(\n",
    "    gs.morphs.MJCF(file  = file_path,\n",
    "                   pos   = (0.0, 0.0, 0.65),\n",
    "                   euler = (0, 0, 0),),\n",
    ")\n",
    "box = scene.add_entity(gs.morphs.Box(pos   = (0.3, 0.0, 1.0),\n",
    "                                     size  = (box_size, box_size, box_size),\n",
    "                                     fixed = False,\n",
    "                                     collision=True,))\n",
    "table = scene.add_entity(gs.morphs.Box(pos   = (0.3, 0.0, (1.0-box_size)/2),\n",
    "                                       size  = (box_size, box_size, (1.0-box_size)),\n",
    "                                       fixed = True,\n",
    "                                       collision=True,))\n",
    "\n",
    "########################## build ##########################\n",
    "scene.build()\n",
    "state = scene.get_state()"
   ]
  },
  {
   "cell_type": "code",
   "execution_count": 5,
   "metadata": {},
   "outputs": [
    {
     "data": {
      "text/plain": [
       "\u001b[38;5;11m────────────────────── \u001b[1m\u001b[3m<gs.RigidEntity>\u001b[0m \u001b[38;5;11m──────────────────────\n",
       "                \u001b[38;5;159m'n_qs'\u001b[0m\u001b[38;5;247m:\u001b[0m \u001b[38;5;121m\u001b[3m<int>\u001b[0m\u001b[38;5;121m: 14\u001b[0m\n",
       "              \u001b[38;5;159m'n_dofs'\u001b[0m\u001b[38;5;247m:\u001b[0m \u001b[38;5;121m\u001b[3m<int>\u001b[0m\u001b[38;5;121m: 14\u001b[0m\n",
       "             \u001b[38;5;159m'n_links'\u001b[0m\u001b[38;5;247m:\u001b[0m \u001b[38;5;121m\u001b[3m<int>\u001b[0m\u001b[38;5;121m: 30\u001b[0m\n",
       "             \u001b[38;5;159m'n_geoms'\u001b[0m\u001b[38;5;247m:\u001b[0m \u001b[38;5;121m\u001b[3m<int>\u001b[0m\u001b[38;5;121m: 12\u001b[0m\n",
       "             \u001b[38;5;159m'n_cells'\u001b[0m\u001b[38;5;247m:\u001b[0m \u001b[38;5;121m\u001b[3m<numpy.int64>\u001b[0m\u001b[38;5;121m: 1159892\u001b[0m\n",
       "             \u001b[38;5;159m'n_verts'\u001b[0m\u001b[38;5;247m:\u001b[0m \u001b[38;5;121m\u001b[3m<int>\u001b[0m\u001b[38;5;121m: 3004\u001b[0m\n",
       "             \u001b[38;5;159m'n_faces'\u001b[0m\u001b[38;5;247m:\u001b[0m \u001b[38;5;121m\u001b[3m<int>\u001b[0m\u001b[38;5;121m: 5960\u001b[0m\n",
       "             \u001b[38;5;159m'n_edges'\u001b[0m\u001b[38;5;247m:\u001b[0m \u001b[38;5;121m\u001b[3m<int>\u001b[0m\u001b[38;5;121m: 8940\u001b[0m\n",
       "            \u001b[38;5;159m'n_joints'\u001b[0m\u001b[38;5;247m:\u001b[0m \u001b[38;5;121m\u001b[3m<int>\u001b[0m\u001b[38;5;121m: 30\u001b[0m\n",
       "            \u001b[38;5;159m'n_vgeoms'\u001b[0m\u001b[38;5;247m:\u001b[0m \u001b[38;5;121m\u001b[3m<int>\u001b[0m\u001b[38;5;121m: 38\u001b[0m\n",
       "            \u001b[38;5;159m'n_vverts'\u001b[0m\u001b[38;5;247m:\u001b[0m \u001b[38;5;121m\u001b[3m<int>\u001b[0m\u001b[38;5;121m: 379162\u001b[0m\n",
       "            \u001b[38;5;159m'n_vfaces'\u001b[0m\u001b[38;5;247m:\u001b[0m \u001b[38;5;121m\u001b[3m<int>\u001b[0m\u001b[38;5;121m: 769092\u001b[0m\n",
       "               \u001b[38;5;159m'q_end'\u001b[0m\u001b[38;5;247m:\u001b[0m \u001b[38;5;121m\u001b[3m<int>\u001b[0m\u001b[38;5;121m: 14\u001b[0m\n",
       "             \u001b[38;5;159m'q_start'\u001b[0m\u001b[38;5;247m:\u001b[0m \u001b[38;5;121m\u001b[3m<int>\u001b[0m\u001b[38;5;121m: 0\u001b[0m\n",
       "            \u001b[38;5;159m'is_built'\u001b[0m\u001b[38;5;247m:\u001b[0m \u001b[38;5;121m\u001b[3m<bool>\u001b[0m\u001b[38;5;121m: True\u001b[0m\n",
       "             \u001b[38;5;159m'dof_end'\u001b[0m\u001b[38;5;247m:\u001b[0m \u001b[38;5;121m\u001b[3m<int>\u001b[0m\u001b[38;5;121m: 14\u001b[0m\n",
       "           \u001b[38;5;159m'dof_start'\u001b[0m\u001b[38;5;247m:\u001b[0m \u001b[38;5;121m\u001b[3m<int>\u001b[0m\u001b[38;5;121m: 0\u001b[0m\n",
       "                 \u001b[38;5;159m'idx'\u001b[0m\u001b[38;5;247m:\u001b[0m \u001b[38;5;121m\u001b[3m<int>\u001b[0m\u001b[38;5;121m: 1\u001b[0m\n",
       "                 \u001b[38;5;159m'sim'\u001b[0m\u001b[38;5;247m:\u001b[0m \u001b[38;5;121m\u001b[3m<gs.Simulator>\u001b[0m\u001b[38;5;121m\u001b[0m\n",
       "                 \u001b[38;5;159m'uid'\u001b[0m\u001b[38;5;247m:\u001b[0m \u001b[38;5;121m\u001b[3m<gs.UID>\u001b[0m\u001b[38;5;121m('03d1948-c36aa45d5846b201318a6d920')\u001b[0m\n",
       "           \u001b[38;5;159m'base_link'\u001b[0m\u001b[38;5;247m:\u001b[0m \u001b[38;5;121m\u001b[3m<gs.RigidLink>\u001b[0m\u001b[38;5;121m: <75b6ff6>, name: 'x1-body', idx: 1\u001b[0m\n",
       "          \u001b[38;5;159m'base_joint'\u001b[0m\u001b[38;5;247m:\u001b[0m \u001b[38;5;121m\u001b[3m<gs.RigidJoint>\u001b[0m\u001b[38;5;121m: <51cd3d1>, name: 'x1-body_joint', idx: 1, type: <FIXED: 0>\u001b[0m\n",
       "       \u001b[38;5;159m'base_link_idx'\u001b[0m\u001b[38;5;247m:\u001b[0m \u001b[38;5;121m\u001b[3m<int>\u001b[0m\u001b[38;5;121m: 1\u001b[0m\n",
       "            \u001b[38;5;159m'cell_end'\u001b[0m\u001b[38;5;247m:\u001b[0m \u001b[38;5;121m\u001b[3m<numpy.int64>\u001b[0m\u001b[38;5;121m: 1166036\u001b[0m\n",
       "          \u001b[38;5;159m'cell_start'\u001b[0m\u001b[38;5;247m:\u001b[0m \u001b[38;5;121m\u001b[3m<numpy.int64>\u001b[0m\u001b[38;5;121m: 6144\u001b[0m\n",
       "          \u001b[38;5;159m'edge_start'\u001b[0m\u001b[38;5;247m:\u001b[0m \u001b[38;5;121m\u001b[3m<int>\u001b[0m\u001b[38;5;121m: 18\u001b[0m\n",
       "          \u001b[38;5;159m'face_start'\u001b[0m\u001b[38;5;247m:\u001b[0m \u001b[38;5;121m\u001b[3m<int>\u001b[0m\u001b[38;5;121m: 12\u001b[0m\n",
       "            \u001b[38;5;159m'geom_end'\u001b[0m\u001b[38;5;247m:\u001b[0m \u001b[38;5;121m\u001b[3m<int>\u001b[0m\u001b[38;5;121m: 13\u001b[0m\n",
       "          \u001b[38;5;159m'geom_start'\u001b[0m\u001b[38;5;247m:\u001b[0m \u001b[38;5;121m\u001b[3m<int>\u001b[0m\u001b[38;5;121m: 1\u001b[0m\n",
       "           \u001b[38;5;159m'init_qpos'\u001b[0m\u001b[38;5;247m:\u001b[0m \u001b[38;5;121m\u001b[3m<numpy.ndarray>\u001b[0m\u001b[38;5;121m: array([0., 0., 0., 0., 0., 0., 0., 0., 0., 0., 0., 0., 0., 0.])\u001b[0m\n",
       "            \u001b[38;5;159m'link_end'\u001b[0m\u001b[38;5;247m:\u001b[0m \u001b[38;5;121m\u001b[3m<int>\u001b[0m\u001b[38;5;121m: 31\u001b[0m\n",
       "          \u001b[38;5;159m'link_start'\u001b[0m\u001b[38;5;247m:\u001b[0m \u001b[38;5;121m\u001b[3m<int>\u001b[0m\u001b[38;5;121m: 1\u001b[0m\n",
       "          \u001b[38;5;159m'vert_start'\u001b[0m\u001b[38;5;247m:\u001b[0m \u001b[38;5;121m\u001b[3m<int>\u001b[0m\u001b[38;5;121m: 8\u001b[0m\n",
       "               \u001b[38;5;159m'geoms'\u001b[0m\u001b[38;5;247m:\u001b[0m \u001b[38;5;121m\u001b[3m<gs.List>\u001b[0m\u001b[38;5;121m(len=12, [\n",
       "                            <gs.RigidGeom>: <5cbbddd>, idx: 1 (from entity <03d1948>, link <75b6ff6>),\n",
       "                            <gs.RigidGeom>: <9eee5fc>, idx: 2 (from entity <03d1948>, link <ec0d2ed>),\n",
       "                            <gs.RigidGeom>: <a2c4f1c>, idx: 3 (from entity <03d1948>, link <21bcb1b>),\n",
       "                            <gs.RigidGeom>: <4d6d9a2>, idx: 4 (from entity <03d1948>, link <21bcb1b>),\n",
       "                            <gs.RigidGeom>: <955f234>, idx: 5 (from entity <03d1948>, link <21bcb1b>),\n",
       "                            <gs.RigidGeom>: <c623f2d>, idx: 6 (from entity <03d1948>, link <21bcb1b>),\n",
       "                            <gs.RigidGeom>: <86c4307>, idx: 7 (from entity <03d1948>, link <7e33ce0>),\n",
       "                            <gs.RigidGeom>: <ff83fe1>, idx: 8 (from entity <03d1948>, link <7e33ce0>),\n",
       "                            <gs.RigidGeom>: <3c94efc>, idx: 9 (from entity <03d1948>, link <7e33ce0>),\n",
       "                            <gs.RigidGeom>: <f987b9a>, idx: 10 (from entity <03d1948>, link <7e33ce0>),\n",
       "                            <gs.RigidGeom>: <a91e37f>, idx: 11 (from entity <03d1948>, link <ae9cb00>),\n",
       "                            <gs.RigidGeom>: <bd7eac6>, idx: 12 (from entity <03d1948>, link <69ded73>),\n",
       "                        ])\u001b[0m\n",
       "               \u001b[38;5;159m'links'\u001b[0m\u001b[38;5;247m:\u001b[0m \u001b[38;5;121m\u001b[3m<gs.List>\u001b[0m\u001b[38;5;121m(len=30, [\n",
       "                            <gs.RigidLink>: <75b6ff6>, name: 'x1-body', idx: 1,\n",
       "                            <gs.RigidLink>: <27b6988>, name: 'body_yaw', idx: 2,\n",
       "                            <gs.RigidLink>: <3d363e0>, name: 'left_hip_pitch_link', idx: 3,\n",
       "                            <gs.RigidLink>: <534449b>, name: 'right_hip_pitch_link', idx: 4,\n",
       "                            <gs.RigidLink>: <a8683c1>, name: 'body_roll', idx: 5,\n",
       "                            <gs.RigidLink>: <73bfbc6>, name: 'left_hip_roll_link', idx: 6,\n",
       "                            <gs.RigidLink>: <13faa6a>, name: 'right_hip_roll_link', idx: 7,\n",
       "                            <gs.RigidLink>: <ec0d2ed>, name: 'body_pitch', idx: 8,\n",
       "                            <gs.RigidLink>: <88e78ac>, name: 'left_hip_yaw_link', idx: 9,\n",
       "                            ...\n",
       "                            <gs.RigidLink>: <69ded73>, name: 'right_wrist_roll_link', idx: 30,\n",
       "                        ])\u001b[0m\n",
       "               \u001b[38;5;159m'morph'\u001b[0m\u001b[38;5;247m:\u001b[0m \u001b[38;5;121m\u001b[3m<gs.morphs.MJCF(file='/home/fuhugu/hanqing/robot/genesis-master/genesis/assets/xml/x1/mjcf/xyber_x1_flat.xml')>\u001b[0m\u001b[38;5;121m\u001b[0m\n",
       "               \u001b[38;5;159m'scene'\u001b[0m\u001b[38;5;247m:\u001b[0m \u001b[38;5;121m\u001b[3m<gs.Scene>\u001b[0m\u001b[38;5;121m\u001b[0m\n",
       "         \u001b[38;5;159m'vface_start'\u001b[0m\u001b[38;5;247m:\u001b[0m \u001b[38;5;121m\u001b[3m<int>\u001b[0m\u001b[38;5;121m: 12\u001b[0m\n",
       "         \u001b[38;5;159m'vvert_start'\u001b[0m\u001b[38;5;247m:\u001b[0m \u001b[38;5;121m\u001b[3m<int>\u001b[0m\u001b[38;5;121m: 8\u001b[0m\n",
       "              \u001b[38;5;159m'joints'\u001b[0m\u001b[38;5;247m:\u001b[0m \u001b[38;5;121m\u001b[3m<gs.List>\u001b[0m\u001b[38;5;121m(len=30, [\n",
       "                            <gs.RigidJoint>: <51cd3d1>, name: 'x1-body_joint', idx: 1, type: <FIXED: 0>,\n",
       "                            <gs.RigidJoint>: <7872a6e>, name: 'body_yaw_joint', idx: 2, type: <FIXED: 0>,\n",
       "                            <gs.RigidJoint>: <6609080>, name: 'left_hip_pitch_link_joint', idx: 3, type: <FIXED: 0>,\n",
       "                            <gs.RigidJoint>: <e6298bb>, name: 'right_hip_pitch_link_joint', idx: 4, type: <FIXED: 0>,\n",
       "                            <gs.RigidJoint>: <cd44498>, name: 'body_roll_joint', idx: 5, type: <FIXED: 0>,\n",
       "                            <gs.RigidJoint>: <7928ce1>, name: 'left_hip_roll_link_joint', idx: 6, type: <FIXED: 0>,\n",
       "                            <gs.RigidJoint>: <4bc3b6c>, name: 'right_hip_roll_link_joint', idx: 7, type: <FIXED: 0>,\n",
       "                            <gs.RigidJoint>: <42a7841>, name: 'body_pitch_joint', idx: 8, type: <FIXED: 0>,\n",
       "                            <gs.RigidJoint>: <b886d44>, name: 'left_hip_yaw_link_joint', idx: 9, type: <FIXED: 0>,\n",
       "                            ...\n",
       "                            <gs.RigidJoint>: <85190a9>, name: 'right_wrist_roll', idx: 30, type: <REVOLUTE: 1>,\n",
       "                        ])\u001b[0m\n",
       "              \u001b[38;5;159m'solver'\u001b[0m\u001b[38;5;247m:\u001b[0m \u001b[38;5;121m\u001b[3m<gs.RigidSolver>\u001b[0m\u001b[38;5;121m: <d8f1880>, n_entities: 4\u001b[0m\n",
       "              \u001b[38;5;159m'vgeoms'\u001b[0m\u001b[38;5;247m:\u001b[0m \u001b[38;5;121m\u001b[3m<gs.List>\u001b[0m\u001b[38;5;121m(len=38, [\n",
       "                            <gs.RigidVisGeom>: <f82c9ff>, idx: 1 (from entity <03d1948>, link <75b6ff6>),\n",
       "                            <gs.RigidVisGeom>: <b67a510>, idx: 2 (from entity <03d1948>, link <27b6988>),\n",
       "                            <gs.RigidVisGeom>: <add1991>, idx: 3 (from entity <03d1948>, link <3d363e0>),\n",
       "                            <gs.RigidVisGeom>: <61c8d4a>, idx: 4 (from entity <03d1948>, link <534449b>),\n",
       "                            <gs.RigidVisGeom>: <ffa427f>, idx: 5 (from entity <03d1948>, link <a8683c1>),\n",
       "                            <gs.RigidVisGeom>: <937ca4b>, idx: 6 (from entity <03d1948>, link <73bfbc6>),\n",
       "                            <gs.RigidVisGeom>: <6c76152>, idx: 7 (from entity <03d1948>, link <13faa6a>),\n",
       "                            <gs.RigidVisGeom>: <7784d21>, idx: 8 (from entity <03d1948>, link <ec0d2ed>),\n",
       "                            <gs.RigidVisGeom>: <04412cd>, idx: 9 (from entity <03d1948>, link <88e78ac>),\n",
       "                            ...\n",
       "                            <gs.RigidVisGeom>: <cde2c27>, idx: 38 (from entity <03d1948>, link <69ded73>),\n",
       "                        ])\u001b[0m\n",
       "\u001b[38;5;159m'gravity_compensation'\u001b[0m\u001b[38;5;247m:\u001b[0m \u001b[38;5;121m\u001b[3m<float>\u001b[0m\u001b[38;5;121m: 0.0\u001b[0m\n",
       "             \u001b[38;5;159m'surface'\u001b[0m\u001b[38;5;247m:\u001b[0m \u001b[38;5;121m\u001b[3m<gs.options.surfaces.Default>\u001b[0m\u001b[38;5;121m\u001b[0m\n",
       "            \u001b[38;5;159m'material'\u001b[0m\u001b[38;5;247m:\u001b[0m \u001b[38;5;121m\u001b[3m<gs.materials.Rigid>\u001b[0m\u001b[38;5;121m\u001b[0m\n",
       "   \u001b[38;5;159m'visualize_contact'\u001b[0m\u001b[38;5;247m:\u001b[0m \u001b[38;5;121m\u001b[3m<bool>\u001b[0m\u001b[38;5;121m: False\u001b[0m"
      ]
     },
     "execution_count": 5,
     "metadata": {},
     "output_type": "execute_result"
    }
   ],
   "source": [
    "robot"
   ]
  },
  {
   "cell_type": "code",
   "execution_count": 6,
   "metadata": {},
   "outputs": [
    {
     "name": "stdout",
     "output_type": "stream",
     "text": [
      "number of links: 30\n",
      "1 x1-body x1-body_joint <FIXED: 0>\n",
      "2 body_yaw body_yaw_joint <FIXED: 0>\n",
      "3 left_hip_pitch_link left_hip_pitch_link_joint <FIXED: 0>\n",
      "4 right_hip_pitch_link right_hip_pitch_link_joint <FIXED: 0>\n",
      "5 body_roll body_roll_joint <FIXED: 0>\n",
      "6 left_hip_roll_link left_hip_roll_link_joint <FIXED: 0>\n",
      "7 right_hip_roll_link right_hip_roll_link_joint <FIXED: 0>\n",
      "8 body_pitch body_pitch_joint <FIXED: 0>\n",
      "9 left_hip_yaw_link left_hip_yaw_link_joint <FIXED: 0>\n",
      "10 right_hip_yaw_link right_hip_yaw_link_joint <FIXED: 0>\n",
      "11 left_shoulder_pitch_link left_shoulder_pitch <REVOLUTE: 1>\n",
      "12 right_shoulder_pitch_link right_shoulder_pitch <REVOLUTE: 1>\n",
      "13 left_knee_pitch_link left_knee_pitch_link_joint <FIXED: 0>\n",
      "14 right_knee_pitch_link right_knee_pitch_link_joint <FIXED: 0>\n",
      "15 left_shoulder_roll_link left_shoulder_roll <REVOLUTE: 1>\n",
      "16 right_shoulder_roll_link right_shoulder_roll <REVOLUTE: 1>\n",
      "17 left_ankle_pitch_link left_ankle_pitch_link_joint <FIXED: 0>\n",
      "18 right_ankle_pitch_link right_ankle_pitch_link_joint <FIXED: 0>\n",
      "19 left_shoulder_yaw_link left_shoulder_yaw <REVOLUTE: 1>\n",
      "20 right_shoulder_yaw_link right_shoulder_yaw <REVOLUTE: 1>\n",
      "21 left_ankle_roll_link left_ankle_roll_link_joint <FIXED: 0>\n",
      "22 right_ankle_roll_link right_ankle_roll_link_joint <FIXED: 0>\n",
      "23 left_elbow_pitch_link left_elbow_pitch <REVOLUTE: 1>\n",
      "24 right_elbow_pitch_link right_elbow_pitch <REVOLUTE: 1>\n",
      "25 left_elbow_yaw_link left_elbow_yaw <REVOLUTE: 1>\n",
      "26 right_elbow_yaw_link right_elbow_yaw <REVOLUTE: 1>\n",
      "27 left_wrist_pitch_link left_wrist_pitch <REVOLUTE: 1>\n",
      "28 right_wrist_pitch_link right_wrist_pitch <REVOLUTE: 1>\n",
      "29 left_wrist_roll_link left_wrist_roll <REVOLUTE: 1>\n",
      "30 right_wrist_roll_link right_wrist_roll <REVOLUTE: 1>\n"
     ]
    }
   ],
   "source": [
    "# x1-body floating_base <FREE: 4>: dof 6\n",
    "# arms dof: 14\n",
    "# legs dof: 12 --> 0\n",
    "\n",
    "print(f'number of links: {robot.n_links}')\n",
    "for link in robot.links:\n",
    "    print(f'{link.idx} {link.name} {link.joint.name} {link.joint.type}')"
   ]
  },
  {
   "cell_type": "code",
   "execution_count": 7,
   "metadata": {},
   "outputs": [
    {
     "name": "stdout",
     "output_type": "stream",
     "text": [
      "arm_dofs_idx: [0, 2, 4, 6, 8, 10, 12, 1, 3, 5, 7, 9, 11, 13]\n",
      "Joint not found for name: left_hip_pitch.\n",
      "Joint not found for name: floating_base.\n"
     ]
    }
   ],
   "source": [
    "########################## joints ##########################\n",
    "leg_joint_names = ['left_hip_pitch', 'left_hip_roll', 'left_hip_yaw', 'left_knee_pitch',\n",
    "             'left_ankle_pitch', 'left_ankle_roll', 'right_hip_pitch', 'right_hip_roll',\n",
    "             'right_hip_yaw', 'right_knee_pitch', 'right_ankle_pitch', 'right_ankle_roll']\n",
    "arm_joint_names = ['left_shoulder_pitch', 'left_shoulder_roll', 'left_shoulder_yaw', 'left_elbow_pitch',\n",
    "                   'left_elbow_yaw', 'left_wrist_pitch', 'left_wrist_roll',\n",
    "                   'right_shoulder_pitch', 'right_shoulder_roll', 'right_shoulder_yaw', 'right_elbow_pitch',\n",
    "                   'right_elbow_yaw', 'right_wrist_pitch', 'right_wrist_roll']\n",
    "\n",
    "arm_dofs_idx, leg_dofs_idx, base_dofs_idx = [], [], []\n",
    "\n",
    "try:\n",
    "    arm_dofs_idx = [robot.get_joint(name).dof_idx_local for name in arm_joint_names]\n",
    "    print(f'arm_dofs_idx: {arm_dofs_idx}')\n",
    "except Exception as e:\n",
    "    print(e)\n",
    "    \n",
    "try:\n",
    "    leg_dofs_idx = [robot.get_joint(name).dof_idx_local for name in leg_joint_names]\n",
    "    print(f'leg_dofs_idx: {leg_dofs_idx}')\n",
    "except Exception as e:\n",
    "    print(e)\n",
    "\n",
    "try:\n",
    "    base_dofs_idx = [robot.get_joint('floating_base').dof_idx_local]\n",
    "    print(f'base_dofs_idx: {base_dofs_idx}')\n",
    "except Exception as e:\n",
    "    print(e)"
   ]
  },
  {
   "cell_type": "code",
   "execution_count": 8,
   "metadata": {},
   "outputs": [
    {
     "name": "stdout",
     "output_type": "stream",
     "text": [
      "1 x1-body tensor([0.0000, 0.0000, 0.6500], device='cuda:0')\n",
      "2 body_yaw tensor([0.0025, 0.0000, 0.7655], device='cuda:0')\n",
      "3 left_hip_pitch_link tensor([0.0025, 0.0923, 0.6379], device='cuda:0')\n",
      "4 right_hip_pitch_link tensor([ 0.0025, -0.0923,  0.6379], device='cuda:0')\n",
      "5 body_roll tensor([0.0025, 0.0000, 0.8060], device='cuda:0')\n",
      "6 left_hip_roll_link tensor([0.0429, 0.1339, 0.5962], device='cuda:0')\n",
      "7 right_hip_roll_link tensor([ 0.0429, -0.1339,  0.5962], device='cuda:0')\n",
      "8 body_pitch tensor([0.0025, 0.0000, 0.8060], device='cuda:0')\n",
      "9 left_hip_yaw_link tensor([0.0023, 0.1339, 0.5124], device='cuda:0')\n",
      "10 right_hip_yaw_link tensor([ 0.0023, -0.1339,  0.5185], device='cuda:0')\n",
      "11 left_shoulder_pitch_link tensor([0.0025, 0.1458, 1.0620], device='cuda:0')\n",
      "12 right_shoulder_pitch_link tensor([ 0.0024, -0.1458,  1.0620], device='cuda:0')\n",
      "13 left_knee_pitch_link tensor([0.0023, 0.1002, 0.3702], device='cuda:0')\n",
      "14 right_knee_pitch_link tensor([ 0.0023, -0.1004,  0.3702], device='cuda:0')\n",
      "15 left_shoulder_roll_link tensor([0.0338, 0.2050, 1.0620], device='cuda:0')\n",
      "16 right_shoulder_roll_link tensor([ 0.0337, -0.2050,  1.0620], device='cuda:0')\n",
      "17 left_ankle_pitch_link tensor([0.0023, 0.1338, 0.0653], device='cuda:0')\n",
      "18 right_ankle_pitch_link tensor([ 0.0023, -0.1340,  0.0653], device='cuda:0')\n",
      "19 left_shoulder_yaw_link tensor([0.0025, 0.2050, 0.9368], device='cuda:0')\n",
      "20 right_shoulder_yaw_link tensor([ 0.0024, -0.2050,  0.9368], device='cuda:0')\n",
      "21 left_ankle_roll_link tensor([0.0023, 0.1338, 0.0653], device='cuda:0')\n",
      "22 right_ankle_roll_link tensor([ 0.0023, -0.1340,  0.0653], device='cuda:0')\n",
      "23 left_elbow_pitch_link tensor([0.0025, 0.2360, 0.9003], device='cuda:0')\n",
      "24 right_elbow_pitch_link tensor([ 0.0024, -0.2360,  0.9003], device='cuda:0')\n",
      "25 left_elbow_yaw_link tensor([0.0025, 0.2050, 0.7833], device='cuda:0')\n",
      "26 right_elbow_yaw_link tensor([ 0.0024, -0.2050,  0.7833], device='cuda:0')\n",
      "27 left_wrist_pitch_link tensor([0.0026, 0.1990, 0.6439], device='cuda:0')\n",
      "28 right_wrist_pitch_link tensor([ 0.0023, -0.1990,  0.6439], device='cuda:0')\n",
      "29 left_wrist_roll_link tensor([0.0026, 0.1990, 0.6439], device='cuda:0')\n",
      "30 right_wrist_roll_link tensor([ 0.0023, -0.1990,  0.6439], device='cuda:0')\n"
     ]
    }
   ],
   "source": [
    "########################## links ##########################\n",
    "\n",
    "# link的索引从1开始\n",
    "body_link_names = ['x1-body', 'body_yaw', 'body_roll', 'body_pitch']\n",
    "arm_link_names = [name + '_link' for name in arm_joint_names]\n",
    "leg_link_names = [name + '_link' for name in leg_joint_names]\n",
    "link_names = body_link_names + arm_link_names + leg_link_names\n",
    "\n",
    "info = []\n",
    "for name in link_names:\n",
    "    idx = robot.get_link(name).idx\n",
    "    pos = robot.get_links_pos()[idx-1]\n",
    "    info.append((idx, name, pos))\n",
    "\n",
    "info.sort(key=lambda x: x[0])\n",
    "for idx, name, pos in info:\n",
    "    print(f'{idx} {name} {pos}')"
   ]
  },
  {
   "cell_type": "code",
   "execution_count": 9,
   "metadata": {},
   "outputs": [
    {
     "name": "stdout",
     "output_type": "stream",
     "text": [
      "kv: tensor([3., 3., 3., 3., 3., 3., 3., 3., 3., 3., 3., 3., 3., 3.],\n",
      "       device='cuda:0')\n",
      "kp: tensor([40., 40., 40., 40., 40., 40., 40., 40., 40., 40., 40., 40., 40., 40.],\n",
      "       device='cuda:0')\n"
     ]
    }
   ],
   "source": [
    "############ 可选：设置控制增益 ############\n",
    "# 设置位置增益\n",
    "robot.set_dofs_kp(\n",
    "    kp             = np.ones(robot.n_dofs) * 40,\n",
    "    # dofs_idx_local = arm_dofs_idx,\n",
    ")\n",
    "# 设置速度增益\n",
    "robot.set_dofs_kv(\n",
    "    kv             = np.ones(robot.n_dofs) * 3.0,\n",
    "    # dofs_idx_local = arm_dofs_idx,\n",
    ")\n",
    "# 设置安全的力范围\n",
    "robot.set_dofs_force_range(\n",
    "    lower          = np.ones(robot.n_dofs) * -100,\n",
    "    upper          = np.ones(robot.n_dofs) * 100,\n",
    "    # dofs_idx_local = arm_dofs_idx,\n",
    ")\n",
    "kv = robot.get_dofs_kv()\n",
    "print(f'kv: {kv}')\n",
    "kp = robot.get_dofs_kp()\n",
    "print(f'kp: {kp}')"
   ]
  },
  {
   "cell_type": "code",
   "execution_count": 10,
   "metadata": {},
   "outputs": [],
   "source": [
    "if len(base_dofs_idx) > 0:\n",
    "    robot.get_joint('floating_base')"
   ]
  },
  {
   "cell_type": "code",
   "execution_count": 11,
   "metadata": {},
   "outputs": [
    {
     "name": "stdout",
     "output_type": "stream",
     "text": [
      "end effector positions: [tensor([0.0026, 0.1990, 0.6439], device='cuda:0'), tensor([ 0.0023, -0.1990,  0.6439], device='cuda:0')]\n"
     ]
    }
   ],
   "source": [
    "########################## end effectors ##########################\n",
    "end_effector_names = ['left_wrist_roll_link', 'right_wrist_roll_link']\n",
    "effector_pos = robot.get_links_pos()\n",
    "end_effector_idx = [robot.get_link(name).idx_local for name in end_effector_names]\n",
    "ee_pos = [effector_pos[i] for i in end_effector_idx]\n",
    "print(f'end effector positions: {ee_pos}')"
   ]
  },
  {
   "cell_type": "code",
   "execution_count": 12,
   "metadata": {},
   "outputs": [],
   "source": [
    "init_pos = [[0.0026, 0.1990, 0.6439], [0.0026, -0.1990, 0.6439]]\n",
    "target_pos = [[0.3000, box_size/2, 1.0000], [0.3000, -box_size/2, 1.0000]]\n",
    "# target_pos = [[0.3000, 0.15, 1.0000], [0.3000, -0.15, 1.0000]]"
   ]
  },
  {
   "cell_type": "code",
   "execution_count": 13,
   "metadata": {},
   "outputs": [
    {
     "data": {
      "text/plain": [
       "tensor([ 0.5002, -0.5000,  0.0000,  0.0000,  0.4023, -0.4022,  1.4280, -1.4259,\n",
       "         0.1529, -0.2719,  0.0000,  0.0000,  0.0000,  0.0000], device='cuda:0')"
      ]
     },
     "execution_count": 13,
     "metadata": {},
     "output_type": "execute_result"
    }
   ],
   "source": [
    "########################## inverse_kinematics ##########################\n",
    "ee_link = [robot.get_link(name) for name in end_effector_names]\n",
    "qpos = robot.inverse_kinematics_multilink(ee_link, target_pos)\n",
    "qpos"
   ]
  },
  {
   "cell_type": "code",
   "execution_count": 14,
   "metadata": {},
   "outputs": [],
   "source": [
    "########################## path planning ##########################\n",
    "path = robot.plan_path(\n",
    "    qpos_goal     = qpos,\n",
    "    num_waypoints = int(t / scene.dt), # 2秒时长\n",
    "    ignore_collision = True,\n",
    ")\n",
    "\n",
    "# 执行规划路径\n",
    "for waypoint in path:\n",
    "    robot.control_dofs_position(waypoint)\n",
    "    scene.step()\n",
    "\n",
    "# 等待到达最后一个路径点\n",
    "for i in range(100):\n",
    "    # print('控制力:', robot.get_dofs_control_force(arm_dofs_idx))\n",
    "    # print('内部力:', robot.get_dofs_force(arm_dofs_idx))\n",
    "    scene.step()"
   ]
  },
  {
   "cell_type": "code",
   "execution_count": 15,
   "metadata": {},
   "outputs": [],
   "source": [
    "########################## try to reset ##########################\n",
    "ee_link = [robot.get_link(name) for name in end_effector_names]\n",
    "qpos_init = robot.inverse_kinematics_multilink(ee_link, init_pos)\n",
    "\n",
    "# 规划运动路径\n",
    "path = robot.plan_path(\n",
    "    qpos_goal     = qpos_init,\n",
    "    num_waypoints = int(t / scene.dt), # 2秒时长\n",
    ")\n",
    "\n",
    "# 执行规划路径\n",
    "for waypoint in path:\n",
    "    robot.control_dofs_position(waypoint)\n",
    "    scene.step()\n",
    "\n",
    "# 等待到达最后一个路径点\n",
    "for i in range(100):\n",
    "    scene.step()"
   ]
  },
  {
   "cell_type": "code",
   "execution_count": 18,
   "metadata": {},
   "outputs": [
    {
     "name": "stdout",
     "output_type": "stream",
     "text": [
      "tensor([0.0000, 0.0000, 1.5708], device='cuda:0', dtype=torch.float64)\n"
     ]
    }
   ],
   "source": [
    "device = torch.device('cuda' if torch.cuda.is_available() else 'cpu')\n",
    "\n",
    "def quaternion_to_euler(quaternion):\n",
    "    \"\"\"\n",
    "    将四元数转换为欧拉角（单位：弧度）。\n",
    "    参数：\n",
    "    quaternion (array-like): 四元数 [x, y, z, w]\n",
    "    返回：\n",
    "    euler_angles (array): 对应的欧拉角 [roll, pitch, yaw]（单位：弧度）\n",
    "    \"\"\"\n",
    "    # 创建旋转对象\n",
    "    r = R.from_quat(quaternion)\n",
    "    # 获取欧拉角 (yaw, pitch, roll)，使用 ypr 顺序\n",
    "    euler_angles = r.as_euler('zyx', degrees=False)\n",
    "    return torch.tensor(euler_angles, device=device)\n",
    "\n",
    "quaternion = [1, 0, 0,  1.0000e+00]  # 例如一个四元数\n",
    "euler_angles = quaternion_to_euler(quaternion)\n",
    "print(euler_angles)\n"
   ]
  },
  {
   "cell_type": "code",
   "execution_count": 19,
   "metadata": {},
   "outputs": [
    {
     "name": "stdout",
     "output_type": "stream",
     "text": [
      "origin_qpos: tensor([-2.3710e-02,  2.7802e-02, -3.6611e-02,  3.9917e-02,  9.1917e-01,\n",
      "        -9.1933e-01,  8.9409e-02, -8.5632e-02,  1.3150e-01, -2.5008e-01,\n",
      "        -1.3165e-03,  4.4948e-03, -3.3560e-04,  1.8319e-05], device='cuda:0')\n",
      "arm_dof_pos: tensor([-2.3710e-02, -3.6611e-02,  9.1917e-01,  8.9409e-02,  1.3150e-01,\n",
      "        -1.3165e-03, -3.3560e-04,  2.7802e-02,  3.9917e-02, -9.1933e-01,\n",
      "        -8.5632e-02, -2.5008e-01,  4.4948e-03,  1.8319e-05], device='cuda:0')\n"
     ]
    }
   ],
   "source": [
    "origin_qpos = robot.get_qpos()\n",
    "print(f'origin_qpos: {origin_qpos}')\n",
    "arm_dof_pos = robot.get_dofs_position(arm_dofs_idx)\n",
    "print(f'arm_dof_pos: {arm_dof_pos}')\n",
    "if len(base_dofs_idx) > 0:\n",
    "    origin_dof_pos = robot.get_dofs_position(base_dofs_idx[0])\n",
    "    print(f'origin_dof_pos: {origin_dof_pos}')\n",
    "    origin_q_euler = quaternion_to_euler(origin_qpos[3:7].cpu())\n",
    "    print(f'origin_q_euler: {origin_q_euler}')"
   ]
  },
  {
   "cell_type": "code",
   "execution_count": 18,
   "metadata": {},
   "outputs": [
    {
     "name": "stdout",
     "output_type": "stream",
     "text": [
      "qpos: tensor([-0.0481, -1.1317, -0.0117,  0.0126,  0.2746, -1.2194,  0.0746, -1.0267,\n",
      "         0.5723, -0.2779, -1.0779, -0.0956, -0.8357, -1.6809], device='cuda:0')\n",
      "dofs_position: tensor([-0.0481, -0.0117,  0.2746,  0.0746,  0.5723, -1.0779, -0.8357, -1.1317,\n",
      "         0.0126, -1.2194, -1.0267, -0.2779, -0.0956, -1.6809], device='cuda:0')\n"
     ]
    }
   ],
   "source": [
    "# 通过set_dofs_position暴力执行\n",
    "if len(base_dofs_idx) > 0:\n",
    "    q_euler = quaternion_to_euler(qpos[3:7])\n",
    "    qpos_euler = torch.cat([qpos[:3], q_euler, qpos[7:]])\n",
    "else:\n",
    "    qpos_euler = qpos\n",
    "robot.set_dofs_position(qpos_euler)\n",
    "\n",
    "if len(base_dofs_idx) > 0:\n",
    "    dof_euler = robot.get_dofs_position(base_dofs_idx[0])[3:]\n",
    "    print(f'q_euler: {q_euler}')\n",
    "    print(f'dof_euler: {dof_euler}')\n",
    "print(f'qpos: {qpos}')\n",
    "print(f'dofs_position: {robot.get_dofs_position(arm_dofs_idx)}')"
   ]
  },
  {
   "cell_type": "code",
   "execution_count": 21,
   "metadata": {},
   "outputs": [
    {
     "name": "stdout",
     "output_type": "stream",
     "text": [
      "0 arm -0.49995702505111694\n",
      "1 arm 0.0\n",
      "2 arm 0.0\n",
      "3 arm 0.4023115634918213\n",
      "4 arm -0.4021724760532379\n",
      "5 arm 1.4279600381851196\n",
      "6 arm -1.425876498222351\n",
      "7 arm 0.15288856625556946\n",
      "8 arm -0.2718881666660309\n",
      "9 arm 0.0\n",
      "10 arm 0.0\n",
      "11 arm 0.0\n",
      "12 arm 0.0\n"
     ]
    },
    {
     "ename": "IndexError",
     "evalue": "index 14 is out of bounds for dimension 0 with size 14",
     "output_type": "error",
     "traceback": [
      "\u001b[0;31m---------------------------------------------------------------------------\u001b[0m",
      "\u001b[0;31mIndexError\u001b[0m                                Traceback (most recent call last)",
      "Cell \u001b[0;32mIn[21], line 3\u001b[0m\n\u001b[1;32m      1\u001b[0m \u001b[38;5;28;01mfor\u001b[39;00m i \u001b[38;5;129;01min\u001b[39;00m \u001b[38;5;28mrange\u001b[39m(robot\u001b[38;5;241m.\u001b[39mn_dofs):\n\u001b[1;32m      2\u001b[0m     \u001b[38;5;28;01mif\u001b[39;00m i \u001b[38;5;129;01min\u001b[39;00m arm_dofs_idx:\n\u001b[0;32m----> 3\u001b[0m         \u001b[38;5;28mprint\u001b[39m(\u001b[38;5;124mf\u001b[39m\u001b[38;5;124m'\u001b[39m\u001b[38;5;132;01m{\u001b[39;00mi\u001b[38;5;132;01m}\u001b[39;00m\u001b[38;5;124m arm \u001b[39m\u001b[38;5;132;01m{\u001b[39;00m\u001b[43mqpos\u001b[49m\u001b[43m[\u001b[49m\u001b[43mi\u001b[49m\u001b[38;5;241;43m+\u001b[39;49m\u001b[38;5;241;43m1\u001b[39;49m\u001b[43m]\u001b[49m\u001b[38;5;132;01m}\u001b[39;00m\u001b[38;5;124m'\u001b[39m)\n\u001b[1;32m      4\u001b[0m     \u001b[38;5;28;01melif\u001b[39;00m i \u001b[38;5;129;01min\u001b[39;00m leg_dofs_idx:\n\u001b[1;32m      5\u001b[0m         \u001b[38;5;28mprint\u001b[39m(\u001b[38;5;124mf\u001b[39m\u001b[38;5;124m'\u001b[39m\u001b[38;5;132;01m{\u001b[39;00mi\u001b[38;5;132;01m}\u001b[39;00m\u001b[38;5;124m leg \u001b[39m\u001b[38;5;132;01m{\u001b[39;00mqpos[i\u001b[38;5;241m+\u001b[39m\u001b[38;5;241m1\u001b[39m]\u001b[38;5;132;01m}\u001b[39;00m\u001b[38;5;124m'\u001b[39m)\n",
      "\u001b[0;31mIndexError\u001b[0m: index 14 is out of bounds for dimension 0 with size 14"
     ]
    }
   ],
   "source": [
    "for i in range(robot.n_dofs):\n",
    "    if i in arm_dofs_idx:\n",
    "        print(f'{i} arm {qpos[i+1]}')\n",
    "    elif i in leg_dofs_idx:\n",
    "        print(f'{i} leg {qpos[i+1]}')\n",
    "    else:\n",
    "        print(f'{i} base {qpos[i+1]}')"
   ]
  }
 ],
 "metadata": {
  "kernelspec": {
   "display_name": "genesis",
   "language": "python",
   "name": "python3"
  },
  "language_info": {
   "codemirror_mode": {
    "name": "ipython",
    "version": 3
   },
   "file_extension": ".py",
   "mimetype": "text/x-python",
   "name": "python",
   "nbconvert_exporter": "python",
   "pygments_lexer": "ipython3",
   "version": "3.10.16"
  }
 },
 "nbformat": 4,
 "nbformat_minor": 2
}
