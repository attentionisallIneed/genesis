{
 "cells": [
  {
   "cell_type": "code",
   "execution_count": 1,
   "metadata": {},
   "outputs": [
    {
     "name": "stderr",
     "output_type": "stream",
     "text": [
      "[I 01/03/25 11:44:04.726 73600] [shell.py:_shell_pop_print@23] Graphical python shell detected, using wrapped sys.stdout\n"
     ]
    }
   ],
   "source": [
    "import torch\n",
    "import numpy as np\n",
    "import genesis as gs\n",
    "\n",
    "from scipy.spatial.transform import Rotation as R"
   ]
  },
  {
   "cell_type": "code",
   "execution_count": 2,
   "metadata": {},
   "outputs": [],
   "source": [
    "########################## init ##########################\n",
    "gs.init(backend=gs.gpu, logging_level=\"error\")"
   ]
  },
  {
   "cell_type": "code",
   "execution_count": 3,
   "metadata": {},
   "outputs": [],
   "source": [
    "file_path = '../../genesis/assets/xml/x1/mjcf/xyber_x1_flat.xml'\n",
    "# file_path = 'xml/franka_emika_panda/panda.xml'\n",
    "box_path = '../../genesis/assets/xml/x1/mjcf/environment/box.xml'\n",
    "box_size = 0.2\n",
    "box_pos = (0.3, 0.0, 1.0)\n",
    "t = 2"
   ]
  },
  {
   "cell_type": "code",
   "execution_count": 4,
   "metadata": {},
   "outputs": [],
   "source": [
    "########################## create a scene and entities ##########################\n",
    "scene = gs.Scene(show_viewer=True, show_FPS=False)\n",
    "plane = scene.add_entity(gs.morphs.Plane())\n",
    "robot = scene.add_entity(\n",
    "    gs.morphs.MJCF(file  = file_path,\n",
    "                   pos   = (0.0, 0.0, 0.65),\n",
    "                   euler = (0, 0, 0),),\n",
    ")\n",
    "box = scene.add_entity(gs.morphs.Box(pos   = box_pos,\n",
    "                                     size  = (box_size, box_size*2, box_size/2),\n",
    "                                     fixed = False,\n",
    "                                     collision=True,))\n",
    "# box = scene.add_entity(\n",
    "#     gs.morphs.MJCF(file  = box_path,\n",
    "#                    pos   = box_pos,\n",
    "#                    euler = (0, 0, 0),),\n",
    "# )\n",
    "table = scene.add_entity(gs.morphs.Box(pos   = (box_pos[0], box_pos[1], (box_pos[2]-box_size)/2),\n",
    "                                       size  = (box_size*2, box_size/2, (box_pos[2]-box_size/2)),\n",
    "                                       fixed = True,\n",
    "                                       collision=True,))\n",
    "\n",
    "########################## build ##########################\n",
    "scene.build()\n",
    "state = scene.get_state()"
   ]
  },
  {
   "cell_type": "code",
   "execution_count": 5,
   "metadata": {},
   "outputs": [
    {
     "data": {
      "text/plain": [
       "\u001b[38;5;11m────────────────────── \u001b[1m\u001b[3m<gs.RigidEntity>\u001b[0m \u001b[38;5;11m──────────────────────\n",
       "                \u001b[38;5;159m'n_qs'\u001b[0m\u001b[38;5;247m:\u001b[0m \u001b[38;5;121m\u001b[3m<int>\u001b[0m\u001b[38;5;121m: 14\u001b[0m\n",
       "              \u001b[38;5;159m'n_dofs'\u001b[0m\u001b[38;5;247m:\u001b[0m \u001b[38;5;121m\u001b[3m<int>\u001b[0m\u001b[38;5;121m: 14\u001b[0m\n",
       "             \u001b[38;5;159m'n_links'\u001b[0m\u001b[38;5;247m:\u001b[0m \u001b[38;5;121m\u001b[3m<int>\u001b[0m\u001b[38;5;121m: 30\u001b[0m\n",
       "             \u001b[38;5;159m'n_geoms'\u001b[0m\u001b[38;5;247m:\u001b[0m \u001b[38;5;121m\u001b[3m<int>\u001b[0m\u001b[38;5;121m: 14\u001b[0m\n",
       "             \u001b[38;5;159m'n_cells'\u001b[0m\u001b[38;5;247m:\u001b[0m \u001b[38;5;121m\u001b[3m<numpy.int64>\u001b[0m\u001b[38;5;121m: 1244460\u001b[0m\n",
       "             \u001b[38;5;159m'n_verts'\u001b[0m\u001b[38;5;247m:\u001b[0m \u001b[38;5;121m\u001b[3m<int>\u001b[0m\u001b[38;5;121m: 3512\u001b[0m\n",
       "             \u001b[38;5;159m'n_faces'\u001b[0m\u001b[38;5;247m:\u001b[0m \u001b[38;5;121m\u001b[3m<int>\u001b[0m\u001b[38;5;121m: 6968\u001b[0m\n",
       "             \u001b[38;5;159m'n_edges'\u001b[0m\u001b[38;5;247m:\u001b[0m \u001b[38;5;121m\u001b[3m<int>\u001b[0m\u001b[38;5;121m: 10452\u001b[0m\n",
       "            \u001b[38;5;159m'n_joints'\u001b[0m\u001b[38;5;247m:\u001b[0m \u001b[38;5;121m\u001b[3m<int>\u001b[0m\u001b[38;5;121m: 30\u001b[0m\n",
       "            \u001b[38;5;159m'n_vgeoms'\u001b[0m\u001b[38;5;247m:\u001b[0m \u001b[38;5;121m\u001b[3m<int>\u001b[0m\u001b[38;5;121m: 38\u001b[0m\n",
       "            \u001b[38;5;159m'n_vverts'\u001b[0m\u001b[38;5;247m:\u001b[0m \u001b[38;5;121m\u001b[3m<int>\u001b[0m\u001b[38;5;121m: 379162\u001b[0m\n",
       "            \u001b[38;5;159m'n_vfaces'\u001b[0m\u001b[38;5;247m:\u001b[0m \u001b[38;5;121m\u001b[3m<int>\u001b[0m\u001b[38;5;121m: 769092\u001b[0m\n",
       "               \u001b[38;5;159m'q_end'\u001b[0m\u001b[38;5;247m:\u001b[0m \u001b[38;5;121m\u001b[3m<int>\u001b[0m\u001b[38;5;121m: 14\u001b[0m\n",
       "             \u001b[38;5;159m'q_start'\u001b[0m\u001b[38;5;247m:\u001b[0m \u001b[38;5;121m\u001b[3m<int>\u001b[0m\u001b[38;5;121m: 0\u001b[0m\n",
       "            \u001b[38;5;159m'is_built'\u001b[0m\u001b[38;5;247m:\u001b[0m \u001b[38;5;121m\u001b[3m<bool>\u001b[0m\u001b[38;5;121m: True\u001b[0m\n",
       "             \u001b[38;5;159m'dof_end'\u001b[0m\u001b[38;5;247m:\u001b[0m \u001b[38;5;121m\u001b[3m<int>\u001b[0m\u001b[38;5;121m: 14\u001b[0m\n",
       "           \u001b[38;5;159m'dof_start'\u001b[0m\u001b[38;5;247m:\u001b[0m \u001b[38;5;121m\u001b[3m<int>\u001b[0m\u001b[38;5;121m: 0\u001b[0m\n",
       "                 \u001b[38;5;159m'idx'\u001b[0m\u001b[38;5;247m:\u001b[0m \u001b[38;5;121m\u001b[3m<int>\u001b[0m\u001b[38;5;121m: 1\u001b[0m\n",
       "                 \u001b[38;5;159m'sim'\u001b[0m\u001b[38;5;247m:\u001b[0m \u001b[38;5;121m\u001b[3m<gs.Simulator>\u001b[0m\u001b[38;5;121m\u001b[0m\n",
       "                 \u001b[38;5;159m'uid'\u001b[0m\u001b[38;5;247m:\u001b[0m \u001b[38;5;121m\u001b[3m<gs.UID>\u001b[0m\u001b[38;5;121m('cdaccf1-4a7114b21a76ea20c0fc23ba1')\u001b[0m\n",
       "           \u001b[38;5;159m'base_link'\u001b[0m\u001b[38;5;247m:\u001b[0m \u001b[38;5;121m\u001b[3m<gs.RigidLink>\u001b[0m\u001b[38;5;121m: <b1e16bc>, name: 'x1-body', idx: 1\u001b[0m\n",
       "          \u001b[38;5;159m'base_joint'\u001b[0m\u001b[38;5;247m:\u001b[0m \u001b[38;5;121m\u001b[3m<gs.RigidJoint>\u001b[0m\u001b[38;5;121m: <fff2cb2>, name: 'x1-body_joint', idx: 1, type: <FIXED: 0>\u001b[0m\n",
       "       \u001b[38;5;159m'base_link_idx'\u001b[0m\u001b[38;5;247m:\u001b[0m \u001b[38;5;121m\u001b[3m<int>\u001b[0m\u001b[38;5;121m: 1\u001b[0m\n",
       "            \u001b[38;5;159m'cell_end'\u001b[0m\u001b[38;5;247m:\u001b[0m \u001b[38;5;121m\u001b[3m<numpy.int64>\u001b[0m\u001b[38;5;121m: 1250604\u001b[0m\n",
       "          \u001b[38;5;159m'cell_start'\u001b[0m\u001b[38;5;247m:\u001b[0m \u001b[38;5;121m\u001b[3m<numpy.int64>\u001b[0m\u001b[38;5;121m: 6144\u001b[0m\n",
       "          \u001b[38;5;159m'edge_start'\u001b[0m\u001b[38;5;247m:\u001b[0m \u001b[38;5;121m\u001b[3m<int>\u001b[0m\u001b[38;5;121m: 18\u001b[0m\n",
       "          \u001b[38;5;159m'face_start'\u001b[0m\u001b[38;5;247m:\u001b[0m \u001b[38;5;121m\u001b[3m<int>\u001b[0m\u001b[38;5;121m: 12\u001b[0m\n",
       "            \u001b[38;5;159m'geom_end'\u001b[0m\u001b[38;5;247m:\u001b[0m \u001b[38;5;121m\u001b[3m<int>\u001b[0m\u001b[38;5;121m: 15\u001b[0m\n",
       "          \u001b[38;5;159m'geom_start'\u001b[0m\u001b[38;5;247m:\u001b[0m \u001b[38;5;121m\u001b[3m<int>\u001b[0m\u001b[38;5;121m: 1\u001b[0m\n",
       "           \u001b[38;5;159m'init_qpos'\u001b[0m\u001b[38;5;247m:\u001b[0m \u001b[38;5;121m\u001b[3m<numpy.ndarray>\u001b[0m\u001b[38;5;121m: array([0., 0., 0., 0., 0., 0., 0., 0., 0., 0., 0., 0., 0., 0.])\u001b[0m\n",
       "            \u001b[38;5;159m'link_end'\u001b[0m\u001b[38;5;247m:\u001b[0m \u001b[38;5;121m\u001b[3m<int>\u001b[0m\u001b[38;5;121m: 31\u001b[0m\n",
       "          \u001b[38;5;159m'link_start'\u001b[0m\u001b[38;5;247m:\u001b[0m \u001b[38;5;121m\u001b[3m<int>\u001b[0m\u001b[38;5;121m: 1\u001b[0m\n",
       "          \u001b[38;5;159m'vert_start'\u001b[0m\u001b[38;5;247m:\u001b[0m \u001b[38;5;121m\u001b[3m<int>\u001b[0m\u001b[38;5;121m: 8\u001b[0m\n",
       "               \u001b[38;5;159m'geoms'\u001b[0m\u001b[38;5;247m:\u001b[0m \u001b[38;5;121m\u001b[3m<gs.List>\u001b[0m\u001b[38;5;121m(len=14, [\n",
       "                            <gs.RigidGeom>: <fe1158c>, idx: 1 (from entity <cdaccf1>, link <b1e16bc>),\n",
       "                            <gs.RigidGeom>: <e9ea92b>, idx: 2 (from entity <cdaccf1>, link <f7abfe3>),\n",
       "                            <gs.RigidGeom>: <0e2781f>, idx: 3 (from entity <cdaccf1>, link <7c938a7>),\n",
       "                            <gs.RigidGeom>: <86ed507>, idx: 4 (from entity <cdaccf1>, link <7c938a7>),\n",
       "                            <gs.RigidGeom>: <bd23ae3>, idx: 5 (from entity <cdaccf1>, link <7c938a7>),\n",
       "                            <gs.RigidGeom>: <e73821b>, idx: 6 (from entity <cdaccf1>, link <7c938a7>),\n",
       "                            <gs.RigidGeom>: <e232d41>, idx: 7 (from entity <cdaccf1>, link <ef14871>),\n",
       "                            <gs.RigidGeom>: <af6eb88>, idx: 8 (from entity <cdaccf1>, link <ef14871>),\n",
       "                            <gs.RigidGeom>: <b3de230>, idx: 9 (from entity <cdaccf1>, link <ef14871>),\n",
       "                            <gs.RigidGeom>: <5b4fb2a>, idx: 10 (from entity <cdaccf1>, link <ef14871>),\n",
       "                            <gs.RigidGeom>: <bfd28f1>, idx: 11 (from entity <cdaccf1>, link <380f97d>),\n",
       "                            <gs.RigidGeom>: <6f3fe21>, idx: 12 (from entity <cdaccf1>, link <79b149e>),\n",
       "                            <gs.RigidGeom>: <f545a1c>, idx: 13 (from entity <cdaccf1>, link <39fc055>),\n",
       "                            <gs.RigidGeom>: <6afc9ad>, idx: 14 (from entity <cdaccf1>, link <c0220e3>),\n",
       "                        ])\u001b[0m\n",
       "               \u001b[38;5;159m'links'\u001b[0m\u001b[38;5;247m:\u001b[0m \u001b[38;5;121m\u001b[3m<gs.List>\u001b[0m\u001b[38;5;121m(len=30, [\n",
       "                            <gs.RigidLink>: <b1e16bc>, name: 'x1-body', idx: 1,\n",
       "                            <gs.RigidLink>: <2f93432>, name: 'body_yaw', idx: 2,\n",
       "                            <gs.RigidLink>: <a75627c>, name: 'left_hip_pitch_link', idx: 3,\n",
       "                            <gs.RigidLink>: <6ed8df6>, name: 'right_hip_pitch_link', idx: 4,\n",
       "                            <gs.RigidLink>: <3da291c>, name: 'body_roll', idx: 5,\n",
       "                            <gs.RigidLink>: <3f03935>, name: 'left_hip_roll_link', idx: 6,\n",
       "                            <gs.RigidLink>: <deac967>, name: 'right_hip_roll_link', idx: 7,\n",
       "                            <gs.RigidLink>: <f7abfe3>, name: 'body_pitch', idx: 8,\n",
       "                            <gs.RigidLink>: <656a97d>, name: 'left_hip_yaw_link', idx: 9,\n",
       "                            ...\n",
       "                            <gs.RigidLink>: <c0220e3>, name: 'right_wrist_roll_link', idx: 30,\n",
       "                        ])\u001b[0m\n",
       "               \u001b[38;5;159m'morph'\u001b[0m\u001b[38;5;247m:\u001b[0m \u001b[38;5;121m\u001b[3m<gs.morphs.MJCF(file='/home/fuhugu/hanqing/robot/genesis-master/genesis/assets/xml/x1/mjcf/xyber_x1_flat.xml')>\u001b[0m\u001b[38;5;121m\u001b[0m\n",
       "               \u001b[38;5;159m'scene'\u001b[0m\u001b[38;5;247m:\u001b[0m \u001b[38;5;121m\u001b[3m<gs.Scene>\u001b[0m\u001b[38;5;121m\u001b[0m\n",
       "         \u001b[38;5;159m'vface_start'\u001b[0m\u001b[38;5;247m:\u001b[0m \u001b[38;5;121m\u001b[3m<int>\u001b[0m\u001b[38;5;121m: 12\u001b[0m\n",
       "         \u001b[38;5;159m'vvert_start'\u001b[0m\u001b[38;5;247m:\u001b[0m \u001b[38;5;121m\u001b[3m<int>\u001b[0m\u001b[38;5;121m: 8\u001b[0m\n",
       "              \u001b[38;5;159m'joints'\u001b[0m\u001b[38;5;247m:\u001b[0m \u001b[38;5;121m\u001b[3m<gs.List>\u001b[0m\u001b[38;5;121m(len=30, [\n",
       "                            <gs.RigidJoint>: <fff2cb2>, name: 'x1-body_joint', idx: 1, type: <FIXED: 0>,\n",
       "                            <gs.RigidJoint>: <f0ece25>, name: 'body_yaw_joint', idx: 2, type: <FIXED: 0>,\n",
       "                            <gs.RigidJoint>: <cda075c>, name: 'left_hip_pitch_link_joint', idx: 3, type: <FIXED: 0>,\n",
       "                            <gs.RigidJoint>: <9529b85>, name: 'right_hip_pitch_link_joint', idx: 4, type: <FIXED: 0>,\n",
       "                            <gs.RigidJoint>: <41f56bb>, name: 'body_roll_joint', idx: 5, type: <FIXED: 0>,\n",
       "                            <gs.RigidJoint>: <1c7a840>, name: 'left_hip_roll_link_joint', idx: 6, type: <FIXED: 0>,\n",
       "                            <gs.RigidJoint>: <a5db1ab>, name: 'right_hip_roll_link_joint', idx: 7, type: <FIXED: 0>,\n",
       "                            <gs.RigidJoint>: <24a178a>, name: 'body_pitch_joint', idx: 8, type: <FIXED: 0>,\n",
       "                            <gs.RigidJoint>: <f7b2823>, name: 'left_hip_yaw_link_joint', idx: 9, type: <FIXED: 0>,\n",
       "                            ...\n",
       "                            <gs.RigidJoint>: <166e528>, name: 'right_wrist_roll', idx: 30, type: <REVOLUTE: 1>,\n",
       "                        ])\u001b[0m\n",
       "              \u001b[38;5;159m'solver'\u001b[0m\u001b[38;5;247m:\u001b[0m \u001b[38;5;121m\u001b[3m<gs.RigidSolver>\u001b[0m\u001b[38;5;121m: <3fb5d32>, n_entities: 4\u001b[0m\n",
       "              \u001b[38;5;159m'vgeoms'\u001b[0m\u001b[38;5;247m:\u001b[0m \u001b[38;5;121m\u001b[3m<gs.List>\u001b[0m\u001b[38;5;121m(len=38, [\n",
       "                            <gs.RigidVisGeom>: <e00a018>, idx: 1 (from entity <cdaccf1>, link <b1e16bc>),\n",
       "                            <gs.RigidVisGeom>: <ef8de03>, idx: 2 (from entity <cdaccf1>, link <2f93432>),\n",
       "                            <gs.RigidVisGeom>: <4c42ee4>, idx: 3 (from entity <cdaccf1>, link <a75627c>),\n",
       "                            <gs.RigidVisGeom>: <99d61d1>, idx: 4 (from entity <cdaccf1>, link <6ed8df6>),\n",
       "                            <gs.RigidVisGeom>: <88fdaf6>, idx: 5 (from entity <cdaccf1>, link <3da291c>),\n",
       "                            <gs.RigidVisGeom>: <1b5a7c6>, idx: 6 (from entity <cdaccf1>, link <3f03935>),\n",
       "                            <gs.RigidVisGeom>: <27be6cc>, idx: 7 (from entity <cdaccf1>, link <deac967>),\n",
       "                            <gs.RigidVisGeom>: <8eb392a>, idx: 8 (from entity <cdaccf1>, link <f7abfe3>),\n",
       "                            <gs.RigidVisGeom>: <19a9116>, idx: 9 (from entity <cdaccf1>, link <656a97d>),\n",
       "                            ...\n",
       "                            <gs.RigidVisGeom>: <e2df466>, idx: 38 (from entity <cdaccf1>, link <c0220e3>),\n",
       "                        ])\u001b[0m\n",
       "\u001b[38;5;159m'gravity_compensation'\u001b[0m\u001b[38;5;247m:\u001b[0m \u001b[38;5;121m\u001b[3m<float>\u001b[0m\u001b[38;5;121m: 0.0\u001b[0m\n",
       "             \u001b[38;5;159m'surface'\u001b[0m\u001b[38;5;247m:\u001b[0m \u001b[38;5;121m\u001b[3m<gs.options.surfaces.Default>\u001b[0m\u001b[38;5;121m\u001b[0m\n",
       "            \u001b[38;5;159m'material'\u001b[0m\u001b[38;5;247m:\u001b[0m \u001b[38;5;121m\u001b[3m<gs.materials.Rigid>\u001b[0m\u001b[38;5;121m\u001b[0m\n",
       "   \u001b[38;5;159m'visualize_contact'\u001b[0m\u001b[38;5;247m:\u001b[0m \u001b[38;5;121m\u001b[3m<bool>\u001b[0m\u001b[38;5;121m: False\u001b[0m"
      ]
     },
     "execution_count": 5,
     "metadata": {},
     "output_type": "execute_result"
    }
   ],
   "source": [
    "robot"
   ]
  },
  {
   "cell_type": "code",
   "execution_count": 6,
   "metadata": {},
   "outputs": [
    {
     "name": "stdout",
     "output_type": "stream",
     "text": [
      "number of links: 30\n",
      "1 x1-body x1-body_joint <FIXED: 0>\n",
      "2 body_yaw body_yaw_joint <FIXED: 0>\n",
      "3 left_hip_pitch_link left_hip_pitch_link_joint <FIXED: 0>\n",
      "4 right_hip_pitch_link right_hip_pitch_link_joint <FIXED: 0>\n",
      "5 body_roll body_roll_joint <FIXED: 0>\n",
      "6 left_hip_roll_link left_hip_roll_link_joint <FIXED: 0>\n",
      "7 right_hip_roll_link right_hip_roll_link_joint <FIXED: 0>\n",
      "8 body_pitch body_pitch_joint <FIXED: 0>\n",
      "9 left_hip_yaw_link left_hip_yaw_link_joint <FIXED: 0>\n",
      "10 right_hip_yaw_link right_hip_yaw_link_joint <FIXED: 0>\n",
      "11 left_shoulder_pitch_link left_shoulder_pitch <REVOLUTE: 1>\n",
      "12 right_shoulder_pitch_link right_shoulder_pitch <REVOLUTE: 1>\n",
      "13 left_knee_pitch_link left_knee_pitch_link_joint <FIXED: 0>\n",
      "14 right_knee_pitch_link right_knee_pitch_link_joint <FIXED: 0>\n",
      "15 left_shoulder_roll_link left_shoulder_roll <REVOLUTE: 1>\n",
      "16 right_shoulder_roll_link right_shoulder_roll <REVOLUTE: 1>\n",
      "17 left_ankle_pitch_link left_ankle_pitch_link_joint <FIXED: 0>\n",
      "18 right_ankle_pitch_link right_ankle_pitch_link_joint <FIXED: 0>\n",
      "19 left_shoulder_yaw_link left_shoulder_yaw <REVOLUTE: 1>\n",
      "20 right_shoulder_yaw_link right_shoulder_yaw <REVOLUTE: 1>\n",
      "21 left_ankle_roll_link left_ankle_roll_link_joint <FIXED: 0>\n",
      "22 right_ankle_roll_link right_ankle_roll_link_joint <FIXED: 0>\n",
      "23 left_elbow_pitch_link left_elbow_pitch <REVOLUTE: 1>\n",
      "24 right_elbow_pitch_link right_elbow_pitch <REVOLUTE: 1>\n",
      "25 left_elbow_yaw_link left_elbow_yaw <REVOLUTE: 1>\n",
      "26 right_elbow_yaw_link right_elbow_yaw <REVOLUTE: 1>\n",
      "27 left_wrist_pitch_link left_wrist_pitch <REVOLUTE: 1>\n",
      "28 right_wrist_pitch_link right_wrist_pitch <REVOLUTE: 1>\n",
      "29 left_wrist_roll_link left_wrist_roll <REVOLUTE: 1>\n",
      "30 right_wrist_roll_link right_wrist_roll <REVOLUTE: 1>\n"
     ]
    }
   ],
   "source": [
    "# x1-body floating_base <FREE: 4>: dof 6\n",
    "# arms dof: 14\n",
    "# legs dof: 12 --> 0\n",
    "\n",
    "print(f'number of links: {robot.n_links}')\n",
    "for link in robot.links:\n",
    "    print(f'{link.idx} {link.name} {link.joint.name} {link.joint.type}')"
   ]
  },
  {
   "cell_type": "code",
   "execution_count": 7,
   "metadata": {},
   "outputs": [
    {
     "name": "stdout",
     "output_type": "stream",
     "text": [
      "arm_dofs_idx: [0, 2, 4, 6, 8, 10, 12, 1, 3, 5, 7, 9, 11, 13]\n",
      "Joint not found for name: left_hip_pitch.\n",
      "Joint not found for name: floating_base.\n"
     ]
    }
   ],
   "source": [
    "########################## joints ##########################\n",
    "leg_joint_names = ['left_hip_pitch', 'left_hip_roll', 'left_hip_yaw', 'left_knee_pitch',\n",
    "             'left_ankle_pitch', 'left_ankle_roll', 'right_hip_pitch', 'right_hip_roll',\n",
    "             'right_hip_yaw', 'right_knee_pitch', 'right_ankle_pitch', 'right_ankle_roll']\n",
    "arm_joint_names = ['left_shoulder_pitch', 'left_shoulder_roll', 'left_shoulder_yaw', 'left_elbow_pitch',\n",
    "                   'left_elbow_yaw', 'left_wrist_pitch', 'left_wrist_roll',\n",
    "                   'right_shoulder_pitch', 'right_shoulder_roll', 'right_shoulder_yaw', 'right_elbow_pitch',\n",
    "                   'right_elbow_yaw', 'right_wrist_pitch', 'right_wrist_roll']\n",
    "\n",
    "arm_dofs_idx, leg_dofs_idx, base_dofs_idx = [], [], []\n",
    "\n",
    "try:\n",
    "    arm_dofs_idx = [robot.get_joint(name).dof_idx_local for name in arm_joint_names]\n",
    "    print(f'arm_dofs_idx: {arm_dofs_idx}')\n",
    "except Exception as e:\n",
    "    print(e)\n",
    "    \n",
    "try:\n",
    "    leg_dofs_idx = [robot.get_joint(name).dof_idx_local for name in leg_joint_names]\n",
    "    print(f'leg_dofs_idx: {leg_dofs_idx}')\n",
    "except Exception as e:\n",
    "    print(e)\n",
    "\n",
    "try:\n",
    "    base_dofs_idx = [robot.get_joint('floating_base').dof_idx_local]\n",
    "    print(f'base_dofs_idx: {base_dofs_idx}')\n",
    "except Exception as e:\n",
    "    print(e)"
   ]
  },
  {
   "cell_type": "code",
   "execution_count": 8,
   "metadata": {},
   "outputs": [
    {
     "name": "stdout",
     "output_type": "stream",
     "text": [
      "1 x1-body tensor([0.0000, 0.0000, 0.6500], device='cuda:0')\n",
      "2 body_yaw tensor([0.0025, 0.0000, 0.7655], device='cuda:0')\n",
      "3 left_hip_pitch_link tensor([0.0025, 0.0923, 0.6379], device='cuda:0')\n",
      "4 right_hip_pitch_link tensor([ 0.0025, -0.0923,  0.6379], device='cuda:0')\n",
      "5 body_roll tensor([0.0025, 0.0000, 0.8060], device='cuda:0')\n",
      "6 left_hip_roll_link tensor([0.0429, 0.1339, 0.5962], device='cuda:0')\n",
      "7 right_hip_roll_link tensor([ 0.0429, -0.1339,  0.5962], device='cuda:0')\n",
      "8 body_pitch tensor([0.0025, 0.0000, 0.8060], device='cuda:0')\n",
      "9 left_hip_yaw_link tensor([0.0023, 0.1339, 0.5124], device='cuda:0')\n",
      "10 right_hip_yaw_link tensor([ 0.0023, -0.1339,  0.5185], device='cuda:0')\n",
      "11 left_shoulder_pitch_link tensor([0.0025, 0.1458, 1.0620], device='cuda:0')\n",
      "12 right_shoulder_pitch_link tensor([ 0.0024, -0.1458,  1.0620], device='cuda:0')\n",
      "13 left_knee_pitch_link tensor([0.0023, 0.1002, 0.3702], device='cuda:0')\n",
      "14 right_knee_pitch_link tensor([ 0.0023, -0.1004,  0.3702], device='cuda:0')\n",
      "15 left_shoulder_roll_link tensor([0.0338, 0.2050, 1.0620], device='cuda:0')\n",
      "16 right_shoulder_roll_link tensor([ 0.0337, -0.2050,  1.0620], device='cuda:0')\n",
      "17 left_ankle_pitch_link tensor([0.0023, 0.1338, 0.0653], device='cuda:0')\n",
      "18 right_ankle_pitch_link tensor([ 0.0023, -0.1340,  0.0653], device='cuda:0')\n",
      "19 left_shoulder_yaw_link tensor([0.0025, 0.2050, 0.9368], device='cuda:0')\n",
      "20 right_shoulder_yaw_link tensor([ 0.0024, -0.2050,  0.9368], device='cuda:0')\n",
      "21 left_ankle_roll_link tensor([0.0023, 0.1338, 0.0653], device='cuda:0')\n",
      "22 right_ankle_roll_link tensor([ 0.0023, -0.1340,  0.0653], device='cuda:0')\n",
      "23 left_elbow_pitch_link tensor([0.0025, 0.2360, 0.9003], device='cuda:0')\n",
      "24 right_elbow_pitch_link tensor([ 0.0024, -0.2360,  0.9003], device='cuda:0')\n",
      "25 left_elbow_yaw_link tensor([0.0025, 0.2050, 0.7833], device='cuda:0')\n",
      "26 right_elbow_yaw_link tensor([ 0.0024, -0.2050,  0.7833], device='cuda:0')\n",
      "27 left_wrist_pitch_link tensor([0.0026, 0.1990, 0.6439], device='cuda:0')\n",
      "28 right_wrist_pitch_link tensor([ 0.0023, -0.1990,  0.6439], device='cuda:0')\n",
      "29 left_wrist_roll_link tensor([0.0026, 0.1990, 0.6439], device='cuda:0')\n",
      "30 right_wrist_roll_link tensor([ 0.0023, -0.1990,  0.6439], device='cuda:0')\n"
     ]
    }
   ],
   "source": [
    "########################## links ##########################\n",
    "\n",
    "# link的索引从1开始\n",
    "body_link_names = ['x1-body', 'body_yaw', 'body_roll', 'body_pitch']\n",
    "arm_link_names = [name + '_link' for name in arm_joint_names]\n",
    "leg_link_names = [name + '_link' for name in leg_joint_names]\n",
    "link_names = body_link_names + arm_link_names + leg_link_names\n",
    "\n",
    "info = []\n",
    "for name in link_names:\n",
    "    idx = robot.get_link(name).idx\n",
    "    pos = robot.get_links_pos()[idx-1]\n",
    "    info.append((idx, name, pos))\n",
    "\n",
    "info.sort(key=lambda x: x[0])\n",
    "for idx, name, pos in info:\n",
    "    print(f'{idx} {name} {pos}')"
   ]
  },
  {
   "cell_type": "code",
   "execution_count": 9,
   "metadata": {},
   "outputs": [
    {
     "name": "stdout",
     "output_type": "stream",
     "text": [
      "kv: tensor([-0., -0., -0., -0., -0., -0., -0., -0., -0., -0., -0., -0., -0., -0.],\n",
      "       device='cuda:0')\n",
      "kp: tensor([1., 1., 1., 1., 1., 1., 1., 1., 1., 1., 1., 1., 1., 1.],\n",
      "       device='cuda:0')\n"
     ]
    }
   ],
   "source": [
    "kv = robot.get_dofs_kv()\n",
    "print(f'kv: {kv}')\n",
    "kp = robot.get_dofs_kp()\n",
    "print(f'kp: {kp}')"
   ]
  },
  {
   "cell_type": "code",
   "execution_count": 10,
   "metadata": {},
   "outputs": [
    {
     "name": "stdout",
     "output_type": "stream",
     "text": [
      "kv: tensor([10.,  8.,  8.,  6.,  5.,  4.,  4., 10.,  8.,  8.,  6.,  5.,  4.,  4.],\n",
      "       device='cuda:0')\n",
      "kp: tensor([200., 150., 150., 120., 100.,  80.,  80., 200., 150., 150., 120., 100.,\n",
      "         80.,  80.], device='cuda:0')\n"
     ]
    }
   ],
   "source": [
    "############ 可选：设置控制增益 ############\n",
    "# 设置位置增益\n",
    "robot.set_dofs_kp(\n",
    "    kp             = np.array([200, 150, 150, 120, 100, 80, 80, 200, 150, 150, 120, 100, 80, 80]),\n",
    "    # dofs_idx_local = arm_dofs_idx,\n",
    ")\n",
    "# 设置速度增益\n",
    "robot.set_dofs_kv(\n",
    "    kv             = np.array([10, 8, 8, 6, 5, 4, 4, 10, 8, 8, 6, 5, 4, 4]),\n",
    "    # dofs_idx_local = arm_dofs_idx,\n",
    ")\n",
    "# 设置安全的力范围\n",
    "robot.set_dofs_force_range(\n",
    "    lower          = np.array([-100, -80, -80, -50, -30, -20, -20, -100, -80, -80, -50, -30, -20, -20]),\n",
    "    upper          = np.array([100, 80, 80, 50, 30, 20, 20, 100, 80, 80, 50, 30, 20, 20]),\n",
    "    # dofs_idx_local = arm_dofs_idx,\n",
    ")\n",
    "kv = robot.get_dofs_kv()\n",
    "print(f'kv: {kv}')\n",
    "kp = robot.get_dofs_kp()\n",
    "print(f'kp: {kp}')"
   ]
  },
  {
   "cell_type": "code",
   "execution_count": 32,
   "metadata": {},
   "outputs": [
    {
     "name": "stdout",
     "output_type": "stream",
     "text": [
      "end effector positions: [tensor([0.2574, 0.1022, 0.9552], device='cuda:0'), tensor([ 0.2513, -0.1030,  0.9731], device='cuda:0')]\n"
     ]
    }
   ],
   "source": [
    "########################## end effectors ##########################\n",
    "end_effector_names = ['left_wrist_roll_link', 'right_wrist_roll_link']\n",
    "effector_pos = robot.get_links_pos()\n",
    "end_effector_idx = [robot.get_link(name).idx_local for name in end_effector_names]\n",
    "ee_pos = [effector_pos[i] for i in end_effector_idx]\n",
    "print(f'end effector positions: {ee_pos}')"
   ]
  },
  {
   "cell_type": "code",
   "execution_count": 41,
   "metadata": {},
   "outputs": [
    {
     "data": {
      "text/plain": [
       "tensor([2.0000e-01, 3.0172e-07, 8.9991e-01], device='cuda:0')"
      ]
     },
     "execution_count": 41,
     "metadata": {},
     "output_type": "execute_result"
    }
   ],
   "source": [
    "########################## target_pos ##########################\n",
    "for i in range(100):\n",
    "    scene.step()\n",
    "\n",
    "init_pos = [[0.0026, 0.1990, 0.6439], [0.0026, -0.1990, 0.6439]]\n",
    "\n",
    "box_pos = box.get_pos()\n",
    "target_pos = [[box_pos[0], box_pos[1]+box_size/2, box_pos[2]], \n",
    "              [box_pos[0], box_pos[1]-box_size/2, box_pos[2]]]\n",
    "\n",
    "# target_pos = [[0.3000, 0., 1.0000], [0.3000, -0.15, 1.0000]]\n",
    "\n",
    "box_pos"
   ]
  },
  {
   "cell_type": "code",
   "execution_count": 42,
   "metadata": {},
   "outputs": [
    {
     "data": {
      "text/plain": [
       "tensor([-2.2735e-01,  2.2819e-01,  0.0000e+00,  0.0000e+00,  4.0616e-01,\n",
       "        -4.0583e-01,  1.7563e+00, -1.7535e+00,  1.4376e-01, -2.9675e-01,\n",
       "         6.2653e-04,  7.5127e-04, -1.6211e-04, -1.6209e-04], device='cuda:0')"
      ]
     },
     "execution_count": 42,
     "metadata": {},
     "output_type": "execute_result"
    }
   ],
   "source": [
    "########################## inverse_kinematics ##########################\n",
    "ee_link = [robot.get_link(name) for name in end_effector_names]\n",
    "qpos = robot.inverse_kinematics_multilink(ee_link, target_pos)\n",
    "qpos"
   ]
  },
  {
   "cell_type": "code",
   "execution_count": 43,
   "metadata": {},
   "outputs": [],
   "source": [
    "########################## path planning ##########################\n",
    "path = robot.plan_path(\n",
    "    qpos_goal        = qpos,\n",
    "    num_waypoints    = int(t / scene.dt), # 2秒时长\n",
    "    ignore_collision = True,\n",
    ")\n",
    "\n",
    "# 执行规划路径\n",
    "for waypoint in path:\n",
    "    robot.control_dofs_position(waypoint)\n",
    "    scene.step()\n",
    "\n",
    "# 等待到达最后一个路径点\n",
    "for i in range(100):\n",
    "    # print('控制力:', robot.get_dofs_control_force(arm_dofs_idx))\n",
    "    # print('内部力:', robot.get_dofs_force(arm_dofs_idx))\n",
    "    scene.step()"
   ]
  },
  {
   "cell_type": "code",
   "execution_count": 44,
   "metadata": {},
   "outputs": [],
   "source": [
    "########################## hold ##########################\n",
    "should_pith_names = ['left_shoulder_pitch', 'right_shoulder_pitch']\n",
    "should_pitch_idxs = [robot.get_joint(name).dof_idx_local for name in should_pith_names]\n",
    "should_pitch_idxs = torch.tensor(should_pitch_idxs)\n",
    "\n",
    "should_roll_names = ['left_shoulder_roll', 'right_shoulder_roll']\n",
    "should_roll_idxs = [robot.get_joint(name).dof_idx_local for name in should_roll_names]\n",
    "should_roll_idxs = torch.tensor(should_roll_idxs)\n",
    "\n",
    "shoulder_yaw_names = ['left_shoulder_yaw', 'right_shoulder_yaw']\n",
    "shoulder_yaw_idxs = [robot.get_joint(name).dof_idx_local for name in shoulder_yaw_names]\n",
    "shoulder_yaw_idxs = torch.tensor(shoulder_yaw_idxs)\n",
    "\n",
    "elbow_pitch_names = ['left_elbow_pitch', 'right_elbow_pitch']\n",
    "elbow_pitch_idxs = [robot.get_joint(name).dof_idx_local for name in elbow_pitch_names]\n",
    "elbow_pitch_idxs = torch.tensor(elbow_pitch_idxs)\n",
    "\n",
    "mask = ~torch.isin(torch.tensor(arm_dofs_idx), should_pitch_idxs)\n",
    "hold_idxs = torch.tensor(arm_dofs_idx)[mask]\n",
    "\n",
    "# # 用torque控制指定自由度，其余的用位置控制。左右对称\n",
    "# robot.control_dofs_force(torch.tensor([10, -10]), should_pitch_idxs)\n",
    "robot.control_dofs_position(torch.tensor([0.2, -0.2]), should_pitch_idxs)\n",
    "dof_pos = robot.get_dofs_position(hold_idxs)\n",
    "dof_pos[6:] = -dof_pos[:6]\n",
    "robot.control_dofs_position(dof_pos[mask], hold_idxs)\n",
    "for i in range(100):\n",
    "    scene.step()"
   ]
  },
  {
   "cell_type": "code",
   "execution_count": 46,
   "metadata": {},
   "outputs": [],
   "source": [
    "########################## reset ##########################\n",
    "for i in range(100):\n",
    "    robot.control_dofs_position(torch.zeros(robot.n_dofs))\n",
    "    scene.step()"
   ]
  },
  {
   "cell_type": "code",
   "execution_count": 47,
   "metadata": {},
   "outputs": [],
   "source": [
    "########################## completely reset ##########################\n",
    "robot.set_dofs_position(torch.zeros(robot.n_dofs), arm_dofs_idx)\n",
    "box.set_dofs_position(torch.tensor([0.2, 0. , 1. , 0. , 0. , 0. ]), box.base_joint.dof_idx_local)\n",
    "scene.step()"
   ]
  },
  {
   "cell_type": "code",
   "execution_count": 18,
   "metadata": {},
   "outputs": [
    {
     "name": "stdout",
     "output_type": "stream",
     "text": [
      "tensor([0.0000, 0.0000, 1.5708], device='cuda:0', dtype=torch.float64)\n"
     ]
    }
   ],
   "source": [
    "device = torch.device('cuda' if torch.cuda.is_available() else 'cpu')\n",
    "\n",
    "def quaternion_to_euler(quaternion):\n",
    "    \"\"\"\n",
    "    将四元数转换为欧拉角（单位：弧度）。\n",
    "    参数：\n",
    "    quaternion (array-like): 四元数 [x, y, z, w]\n",
    "    返回：\n",
    "    euler_angles (array): 对应的欧拉角 [roll, pitch, yaw]（单位：弧度）\n",
    "    \"\"\"\n",
    "    # 创建旋转对象\n",
    "    r = R.from_quat(quaternion)\n",
    "    # 获取欧拉角 (yaw, pitch, roll)，使用 ypr 顺序\n",
    "    euler_angles = r.as_euler('zyx', degrees=False)\n",
    "    return torch.tensor(euler_angles, device=device)\n",
    "\n",
    "quaternion = [1, 0, 0,  1.0000e+00]  # 例如一个四元数\n",
    "euler_angles = quaternion_to_euler(quaternion)\n",
    "print(euler_angles)\n"
   ]
  },
  {
   "cell_type": "code",
   "execution_count": 19,
   "metadata": {},
   "outputs": [
    {
     "name": "stdout",
     "output_type": "stream",
     "text": [
      "origin_qpos: tensor([ 0.0080, -0.0209, -0.0010, -0.0185, -0.0472,  0.0419, -0.0079,  0.0673,\n",
      "         0.0575,  0.0874,  0.0111, -0.0514,  0.0398,  0.0417], device='cuda:0')\n",
      "arm_dof_pos: tensor([ 0.0080, -0.0010, -0.0472, -0.0079,  0.0575,  0.0111,  0.0398, -0.0209,\n",
      "        -0.0185,  0.0419,  0.0673,  0.0874, -0.0514,  0.0417], device='cuda:0')\n"
     ]
    }
   ],
   "source": [
    "origin_qpos = robot.get_qpos()\n",
    "print(f'origin_qpos: {origin_qpos}')\n",
    "arm_dof_pos = robot.get_dofs_position(arm_dofs_idx)\n",
    "print(f'arm_dof_pos: {arm_dof_pos}')\n",
    "if len(base_dofs_idx) > 0:\n",
    "    origin_dof_pos = robot.get_dofs_position(base_dofs_idx[0])\n",
    "    print(f'origin_dof_pos: {origin_dof_pos}')\n",
    "    origin_q_euler = quaternion_to_euler(origin_qpos[3:7].cpu())\n",
    "    print(f'origin_q_euler: {origin_q_euler}')"
   ]
  },
  {
   "cell_type": "code",
   "execution_count": 20,
   "metadata": {},
   "outputs": [
    {
     "name": "stdout",
     "output_type": "stream",
     "text": [
      "qpos: tensor([ 0.4058, -0.4064,  0.0000,  0.0000,  0.4394, -0.4392,  1.1410, -1.1459,\n",
      "         0.3512, -0.1611,  0.0693,  0.0686, -0.0123, -0.0122], device='cuda:0')\n",
      "dofs_position: tensor([ 0.4058,  0.0000,  0.4394,  1.1410,  0.3512,  0.0693, -0.0123, -0.4064,\n",
      "         0.0000, -0.4392, -1.1459, -0.1611,  0.0686, -0.0122], device='cuda:0')\n"
     ]
    }
   ],
   "source": [
    "# 通过set_dofs_position暴力执行\n",
    "if len(base_dofs_idx) > 0:\n",
    "    q_euler = quaternion_to_euler(qpos[3:7])\n",
    "    qpos_euler = torch.cat([qpos[:3], q_euler, qpos[7:]])\n",
    "else:\n",
    "    qpos_euler = qpos\n",
    "robot.set_dofs_position(qpos_euler)\n",
    "\n",
    "if len(base_dofs_idx) > 0:\n",
    "    dof_euler = robot.get_dofs_position(base_dofs_idx[0])[3:]\n",
    "    print(f'q_euler: {q_euler}')\n",
    "    print(f'dof_euler: {dof_euler}')\n",
    "print(f'qpos: {qpos}')\n",
    "print(f'dofs_position: {robot.get_dofs_position(arm_dofs_idx)}')"
   ]
  },
  {
   "cell_type": "code",
   "execution_count": 21,
   "metadata": {},
   "outputs": [
    {
     "name": "stdout",
     "output_type": "stream",
     "text": [
      "0 arm -0.40643084049224854\n",
      "1 arm 0.0\n",
      "2 arm 0.0\n",
      "3 arm 0.4394027292728424\n",
      "4 arm -0.4392257630825043\n",
      "5 arm 1.1410330533981323\n",
      "6 arm -1.1459113359451294\n",
      "7 arm 0.35118940472602844\n",
      "8 arm -0.16112135350704193\n",
      "9 arm 0.06933190673589706\n",
      "10 arm 0.06864558160305023\n",
      "11 arm -0.012252932414412498\n",
      "12 arm -0.012247169390320778\n"
     ]
    },
    {
     "ename": "IndexError",
     "evalue": "index 14 is out of bounds for dimension 0 with size 14",
     "output_type": "error",
     "traceback": [
      "\u001b[0;31m---------------------------------------------------------------------------\u001b[0m",
      "\u001b[0;31mIndexError\u001b[0m                                Traceback (most recent call last)",
      "Cell \u001b[0;32mIn[21], line 3\u001b[0m\n\u001b[1;32m      1\u001b[0m \u001b[38;5;28;01mfor\u001b[39;00m i \u001b[38;5;129;01min\u001b[39;00m \u001b[38;5;28mrange\u001b[39m(robot\u001b[38;5;241m.\u001b[39mn_dofs):\n\u001b[1;32m      2\u001b[0m     \u001b[38;5;28;01mif\u001b[39;00m i \u001b[38;5;129;01min\u001b[39;00m arm_dofs_idx:\n\u001b[0;32m----> 3\u001b[0m         \u001b[38;5;28mprint\u001b[39m(\u001b[38;5;124mf\u001b[39m\u001b[38;5;124m'\u001b[39m\u001b[38;5;132;01m{\u001b[39;00mi\u001b[38;5;132;01m}\u001b[39;00m\u001b[38;5;124m arm \u001b[39m\u001b[38;5;132;01m{\u001b[39;00m\u001b[43mqpos\u001b[49m\u001b[43m[\u001b[49m\u001b[43mi\u001b[49m\u001b[38;5;241;43m+\u001b[39;49m\u001b[38;5;241;43m1\u001b[39;49m\u001b[43m]\u001b[49m\u001b[38;5;132;01m}\u001b[39;00m\u001b[38;5;124m'\u001b[39m)\n\u001b[1;32m      4\u001b[0m     \u001b[38;5;28;01melif\u001b[39;00m i \u001b[38;5;129;01min\u001b[39;00m leg_dofs_idx:\n\u001b[1;32m      5\u001b[0m         \u001b[38;5;28mprint\u001b[39m(\u001b[38;5;124mf\u001b[39m\u001b[38;5;124m'\u001b[39m\u001b[38;5;132;01m{\u001b[39;00mi\u001b[38;5;132;01m}\u001b[39;00m\u001b[38;5;124m leg \u001b[39m\u001b[38;5;132;01m{\u001b[39;00mqpos[i\u001b[38;5;241m+\u001b[39m\u001b[38;5;241m1\u001b[39m]\u001b[38;5;132;01m}\u001b[39;00m\u001b[38;5;124m'\u001b[39m)\n",
      "\u001b[0;31mIndexError\u001b[0m: index 14 is out of bounds for dimension 0 with size 14"
     ]
    }
   ],
   "source": [
    "for i in range(robot.n_dofs):\n",
    "    if i in arm_dofs_idx:\n",
    "        print(f'{i} arm {qpos[i+1]}')\n",
    "    elif i in leg_dofs_idx:\n",
    "        print(f'{i} leg {qpos[i+1]}')\n",
    "    else:\n",
    "        print(f'{i} base {qpos[i+1]}')"
   ]
  }
 ],
 "metadata": {
  "kernelspec": {
   "display_name": "genesis",
   "language": "python",
   "name": "python3"
  },
  "language_info": {
   "codemirror_mode": {
    "name": "ipython",
    "version": 3
   },
   "file_extension": ".py",
   "mimetype": "text/x-python",
   "name": "python",
   "nbconvert_exporter": "python",
   "pygments_lexer": "ipython3",
   "version": "3.10.16"
  }
 },
 "nbformat": 4,
 "nbformat_minor": 2
}
